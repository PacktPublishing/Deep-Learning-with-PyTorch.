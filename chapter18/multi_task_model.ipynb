{
 "cells": [
  {
   "cell_type": "markdown",
   "id": "03603465",
   "metadata": {},
   "source": [
    "# Multi Task Neural Networks Recommendation Model"
   ]
  },
  {
   "cell_type": "code",
   "execution_count": 1,
   "id": "e433f232",
   "metadata": {},
   "outputs": [],
   "source": [
    "import torch\n",
    "import torch.nn as nn\n",
    "from torch.utils.data import Dataset, DataLoader, TensorDataset\n",
    "import torch.nn.functional as F\n",
    "import pandas as pd\n",
    "import numpy as np\n",
    "import itertools"
   ]
  },
  {
   "cell_type": "markdown",
   "id": "a1bed806",
   "metadata": {},
   "source": [
    "### Loading Dataset"
   ]
  },
  {
   "cell_type": "code",
   "execution_count": 17,
   "id": "d111f235",
   "metadata": {},
   "outputs": [],
   "source": [
    "data = pd.read_csv(\"./ratings_with_watch_time.csv\")"
   ]
  },
  {
   "cell_type": "code",
   "execution_count": 106,
   "id": "4b918044",
   "metadata": {},
   "outputs": [
    {
     "data": {
      "text/plain": [
       "<AxesSubplot:>"
      ]
     },
     "execution_count": 106,
     "metadata": {},
     "output_type": "execute_result"
    },
    {
     "data": {
      "image/png": "[encoded data removed]",
      "text/plain": [
       "<Figure size 640x480 with 1 Axes>"
      ]
     },
     "metadata": {},
     "output_type": "display_data"
    }
   ],
   "source": [
    "data['watch_time'].hist(bins=range(0,100,10))"
   ]
  },
  {
   "cell_type": "code",
   "execution_count": 22,
   "id": "f59f5be6",
   "metadata": {},
   "outputs": [
    {
     "data": {
      "text/html": [
       "<div>\n",
       "<style scoped>\n",
       "    .dataframe tbody tr th:only-of-type {\n",
       "        vertical-align: middle;\n",
       "    }\n",
       "\n",
       "    .dataframe tbody tr th {\n",
       "        vertical-align: top;\n",
       "    }\n",
       "\n",
       "    .dataframe thead th {\n",
       "        text-align: right;\n",
       "    }\n",
       "</style>\n",
       "<table border=\"1\" class=\"dataframe\">\n",
       "  <thead>\n",
       "    <tr style=\"text-align: right;\">\n",
       "      <th></th>\n",
       "      <th>userId</th>\n",
       "      <th>movieId</th>\n",
       "      <th>rating</th>\n",
       "      <th>timestamp</th>\n",
       "      <th>watch_time</th>\n",
       "    </tr>\n",
       "  </thead>\n",
       "  <tbody>\n",
       "    <tr>\n",
       "      <th>0</th>\n",
       "      <td>1</td>\n",
       "      <td>1</td>\n",
       "      <td>4.0</td>\n",
       "      <td>964982703</td>\n",
       "      <td>97.151518</td>\n",
       "    </tr>\n",
       "    <tr>\n",
       "      <th>1</th>\n",
       "      <td>1</td>\n",
       "      <td>3</td>\n",
       "      <td>4.0</td>\n",
       "      <td>964981247</td>\n",
       "      <td>79.113979</td>\n",
       "    </tr>\n",
       "    <tr>\n",
       "      <th>2</th>\n",
       "      <td>1</td>\n",
       "      <td>6</td>\n",
       "      <td>4.0</td>\n",
       "      <td>964982224</td>\n",
       "      <td>96.793664</td>\n",
       "    </tr>\n",
       "    <tr>\n",
       "      <th>3</th>\n",
       "      <td>1</td>\n",
       "      <td>47</td>\n",
       "      <td>5.0</td>\n",
       "      <td>964983815</td>\n",
       "      <td>78.785229</td>\n",
       "    </tr>\n",
       "    <tr>\n",
       "      <th>4</th>\n",
       "      <td>1</td>\n",
       "      <td>50</td>\n",
       "      <td>5.0</td>\n",
       "      <td>964982931</td>\n",
       "      <td>80.947069</td>\n",
       "    </tr>\n",
       "  </tbody>\n",
       "</table>\n",
       "</div>"
      ],
      "text/plain": [
       "   userId  movieId  rating  timestamp  watch_time\n",
       "0       1        1     4.0  964982703   97.151518\n",
       "1       1        3     4.0  964981247   79.113979\n",
       "2       1        6     4.0  964982224   96.793664\n",
       "3       1       47     5.0  964983815   78.785229\n",
       "4       1       50     5.0  964982931   80.947069"
      ]
     },
     "execution_count": 22,
     "metadata": {},
     "output_type": "execute_result"
    }
   ],
   "source": [
    "data.head()"
   ]
  },
  {
   "cell_type": "code",
   "execution_count": 23,
   "id": "998ed89d",
   "metadata": {},
   "outputs": [],
   "source": [
    "data['userId'] = data['userId'] - 1\n",
    "data['movieId'] = data['movieId'] - 1"
   ]
  },
  {
   "cell_type": "code",
   "execution_count": 24,
   "id": "7b08f12a",
   "metadata": {},
   "outputs": [],
   "source": [
    "data.drop_duplicates(inplace=True)"
   ]
  },
  {
   "cell_type": "code",
   "execution_count": 25,
   "id": "e246471a",
   "metadata": {},
   "outputs": [],
   "source": [
    "data.dropna(inplace=True)"
   ]
  },
  {
   "cell_type": "code",
   "execution_count": 26,
   "id": "a92d489d",
   "metadata": {},
   "outputs": [],
   "source": [
    "def fillID(df, col):\n",
    "    m = dict({-1:-1})\n",
    "    new_col = []\n",
    "    for value in df[col].values:\n",
    "        if value in m:\n",
    "            new_col.append(m[value])\n",
    "        else:\n",
    "            new_index = max(m.values()) + 1\n",
    "            m[value] = new_index\n",
    "            new_col.append(new_index)\n",
    "    df[col+\"Index\"] = new_col\n",
    "    return"
   ]
  },
  {
   "cell_type": "code",
   "execution_count": 27,
   "id": "46aee15a",
   "metadata": {},
   "outputs": [],
   "source": [
    "fillID(data, 'userId')\n",
    "fillID(data, 'movieId')"
   ]
  },
  {
   "cell_type": "markdown",
   "id": "b5417115",
   "metadata": {},
   "source": [
    "### Converting Continous Rating to Class"
   ]
  },
  {
   "cell_type": "code",
   "execution_count": 29,
   "id": "67d55ae2",
   "metadata": {},
   "outputs": [],
   "source": [
    "# data['rating] = normalize(data['rating'].values)\n",
    "def get_class(x):\n",
    "    if x < 4.0:\n",
    "        return 0\n",
    "    return 1\n",
    "data['rating'] = data['rating'].apply(lambda x: get_class(x))"
   ]
  },
  {
   "cell_type": "code",
   "execution_count": 30,
   "id": "fcc49f10",
   "metadata": {},
   "outputs": [
    {
     "data": {
      "text/plain": [
       "0    52256\n",
       "1    48580\n",
       "Name: rating, dtype: int64"
      ]
     },
     "execution_count": 30,
     "metadata": {},
     "output_type": "execute_result"
    }
   ],
   "source": [
    "data['rating'].value_counts()"
   ]
  },
  {
   "cell_type": "markdown",
   "id": "938aac9b",
   "metadata": {},
   "source": [
    "### Train/Test Splitting"
   ]
  },
  {
   "cell_type": "code",
   "execution_count": 31,
   "id": "63fa7031",
   "metadata": {},
   "outputs": [],
   "source": [
    "np.random.seed(3)\n",
    "msk = np.random.rand(len(data)) < 0.8 # 80% Train, 20% Test\n",
    "train = data[msk].copy()\n",
    "validation = data[~msk].copy()"
   ]
  },
  {
   "cell_type": "code",
   "execution_count": 32,
   "id": "02a9be19",
   "metadata": {},
   "outputs": [
    {
     "data": {
      "text/plain": [
       "(100836, 80450, 20386)"
      ]
     },
     "execution_count": 32,
     "metadata": {},
     "output_type": "execute_result"
    }
   ],
   "source": [
    "len(data), len(train), len(validation)"
   ]
  },
  {
   "cell_type": "code",
   "execution_count": 33,
   "id": "0c7c5bed",
   "metadata": {},
   "outputs": [
    {
     "data": {
      "text/plain": [
       "Index(['userId', 'movieId', 'rating', 'timestamp', 'watch_time', 'userIdIndex',\n",
       "       'movieIdIndex'],\n",
       "      dtype='object')"
      ]
     },
     "execution_count": 33,
     "metadata": {},
     "output_type": "execute_result"
    }
   ],
   "source": [
    "train.columns"
   ]
  },
  {
   "cell_type": "code",
   "execution_count": 34,
   "id": "d63f2aff",
   "metadata": {},
   "outputs": [],
   "source": [
    "num_users = data['userIdIndex'].nunique()\n",
    "num_movies = data['movieIdIndex'].nunique()"
   ]
  },
  {
   "cell_type": "code",
   "execution_count": 35,
   "id": "c77cc64b",
   "metadata": {},
   "outputs": [
    {
     "name": "stdout",
     "output_type": "stream",
     "text": [
      "610 9724\n"
     ]
    }
   ],
   "source": [
    "print(num_users, num_movies)"
   ]
  },
  {
   "cell_type": "code",
   "execution_count": 36,
   "id": "bc41b643",
   "metadata": {},
   "outputs": [
    {
     "data": {
      "text/html": [
       "<div>\n",
       "<style scoped>\n",
       "    .dataframe tbody tr th:only-of-type {\n",
       "        vertical-align: middle;\n",
       "    }\n",
       "\n",
       "    .dataframe tbody tr th {\n",
       "        vertical-align: top;\n",
       "    }\n",
       "\n",
       "    .dataframe thead th {\n",
       "        text-align: right;\n",
       "    }\n",
       "</style>\n",
       "<table border=\"1\" class=\"dataframe\">\n",
       "  <thead>\n",
       "    <tr style=\"text-align: right;\">\n",
       "      <th></th>\n",
       "      <th>userId</th>\n",
       "      <th>movieId</th>\n",
       "      <th>rating</th>\n",
       "      <th>timestamp</th>\n",
       "      <th>watch_time</th>\n",
       "      <th>userIdIndex</th>\n",
       "      <th>movieIdIndex</th>\n",
       "    </tr>\n",
       "  </thead>\n",
       "  <tbody>\n",
       "    <tr>\n",
       "      <th>0</th>\n",
       "      <td>0</td>\n",
       "      <td>0</td>\n",
       "      <td>1</td>\n",
       "      <td>964982703</td>\n",
       "      <td>97.151518</td>\n",
       "      <td>0</td>\n",
       "      <td>0</td>\n",
       "    </tr>\n",
       "    <tr>\n",
       "      <th>1</th>\n",
       "      <td>0</td>\n",
       "      <td>2</td>\n",
       "      <td>1</td>\n",
       "      <td>964981247</td>\n",
       "      <td>79.113979</td>\n",
       "      <td>0</td>\n",
       "      <td>1</td>\n",
       "    </tr>\n",
       "    <tr>\n",
       "      <th>2</th>\n",
       "      <td>0</td>\n",
       "      <td>5</td>\n",
       "      <td>1</td>\n",
       "      <td>964982224</td>\n",
       "      <td>96.793664</td>\n",
       "      <td>0</td>\n",
       "      <td>2</td>\n",
       "    </tr>\n",
       "    <tr>\n",
       "      <th>3</th>\n",
       "      <td>0</td>\n",
       "      <td>46</td>\n",
       "      <td>1</td>\n",
       "      <td>964983815</td>\n",
       "      <td>78.785229</td>\n",
       "      <td>0</td>\n",
       "      <td>3</td>\n",
       "    </tr>\n",
       "    <tr>\n",
       "      <th>6</th>\n",
       "      <td>0</td>\n",
       "      <td>100</td>\n",
       "      <td>1</td>\n",
       "      <td>964980868</td>\n",
       "      <td>96.250136</td>\n",
       "      <td>0</td>\n",
       "      <td>6</td>\n",
       "    </tr>\n",
       "  </tbody>\n",
       "</table>\n",
       "</div>"
      ],
      "text/plain": [
       "   userId  movieId  rating  timestamp  watch_time  userIdIndex  movieIdIndex\n",
       "0       0        0       1  964982703   97.151518            0             0\n",
       "1       0        2       1  964981247   79.113979            0             1\n",
       "2       0        5       1  964982224   96.793664            0             2\n",
       "3       0       46       1  964983815   78.785229            0             3\n",
       "6       0      100       1  964980868   96.250136            0             6"
      ]
     },
     "execution_count": 36,
     "metadata": {},
     "output_type": "execute_result"
    }
   ],
   "source": [
    "train.head()"
   ]
  },
  {
   "cell_type": "markdown",
   "id": "1f2e52d1",
   "metadata": {},
   "source": [
    "### Dataset and Dataloader"
   ]
  },
  {
   "cell_type": "code",
   "execution_count": 39,
   "id": "46de8f00",
   "metadata": {},
   "outputs": [],
   "source": [
    "batch_size = 5000\n",
    "\n",
    "train_features = torch.LongTensor(train[['userIdIndex', 'movieIdIndex']].values)\n",
    "train_target = torch.Tensor(train[['rating', 'watch_time']].values).float()\n",
    "\n",
    "train_ds = TensorDataset(train_features, train_target)\n",
    "dl_train = DataLoader(train_ds, batch_size, shuffle=True, num_workers=4)\n",
    "\n",
    "val_features = torch.LongTensor(validation[['userIdIndex', 'movieIdIndex']].values)\n",
    "val_target = torch.Tensor(validation[['rating','watch_time']].values).float()\n",
    "\n",
    "val_ds = TensorDataset(val_features, val_target)\n",
    "dl_val = DataLoader(train_ds, batch_size, shuffle=True, num_workers=4, drop_last=True)"
   ]
  },
  {
   "cell_type": "code",
   "execution_count": 40,
   "id": "f78a2612",
   "metadata": {},
   "outputs": [
    {
     "name": "stdout",
     "output_type": "stream",
     "text": [
      "tensor([[ 572, 2315],\n",
      "        [ 609, 1133],\n",
      "        [ 413, 5335],\n",
      "        ...,\n",
      "        [ 476, 2999],\n",
      "        [ 317, 3490],\n",
      "        [  67, 1911]])\n",
      "tensor([[ 1.0000, 86.0964],\n",
      "        [ 1.0000, 92.7592],\n",
      "        [ 0.0000, 71.1582],\n",
      "        ...,\n",
      "        [ 1.0000, 84.3698],\n",
      "        [ 0.0000, 71.9219],\n",
      "        [ 1.0000, 87.3280]])\n"
     ]
    }
   ],
   "source": [
    "xb, yb = next(iter(dl_train))\n",
    "print(xb)\n",
    "print(yb)"
   ]
  },
  {
   "cell_type": "markdown",
   "id": "3ce13fca",
   "metadata": {},
   "source": [
    "### Two Tower Model"
   ]
  },
  {
   "cell_type": "markdown",
   "id": "ba477d0c",
   "metadata": {},
   "source": [
    "![alt text](multi_task.png \"Two Tower Model\")"
   ]
  },
  {
   "cell_type": "code",
   "execution_count": 45,
   "id": "6ec9ca53",
   "metadata": {},
   "outputs": [],
   "source": [
    "class MultiTaskNetwork(nn.Module):\n",
    "    def __init__(self, num_users, num_items, emb_size=64):\n",
    "        super(MultiTaskNetwork, self).__init__()\n",
    "        self.user_embedding = nn.Embedding(num_users, emb_size)\n",
    "        self.user_embedding.weight.data.uniform_(0, 0.05)\n",
    "        \n",
    "        self.item_embedding = nn.Embedding(num_items, emb_size)\n",
    "        self.item_embedding.weight.data.uniform_(0, 0.05)\n",
    "        \n",
    "        \n",
    "        # FC layers\n",
    "        self.fc1 = nn.Linear(emb_size*2, emb_size)\n",
    "        self.fc2 = nn.Linear(emb_size, emb_size//2)\n",
    "        \n",
    "        # Task - 1\n",
    "        self.task_1_l1 = nn.Linear(emb_size//2, emb_size//2)\n",
    "        self.task_1_l2 = nn.Linear(emb_size//2, 1)\n",
    "        \n",
    "        # Task - 2\n",
    "        self.task_2_l1 = nn.Linear(emb_size//2, emb_size//2)\n",
    "        self.task_2_l2 = nn.Linear(emb_size//2, 1)\n",
    "    \n",
    "    def forward(self, user, item):\n",
    "        user_emb = self.user_embedding(user)\n",
    "        item_emb = self.item_embedding(item)\n",
    "        \n",
    "        emb = torch.cat([user_emb, item_emb], dim=1)\n",
    "        out = nn.functional.relu(self.fc1(emb))\n",
    "        out = nn.functional.relu(self.fc2(out))\n",
    "        \n",
    "        # Task-1\n",
    "        out1 = nn.functional.relu(self.task_1_l1(out))\n",
    "        out1 = nn.functional.sigmoid(self.task_1_l2(out))\n",
    "        \n",
    "        # Task-2\n",
    "        out2 = nn.functional.relu(self.task_2_l1(out))\n",
    "        out2 = self.task_2_l2(out)\n",
    "        \n",
    "        return out1, out2\n",
    "        "
   ]
  },
  {
   "cell_type": "code",
   "execution_count": 49,
   "id": "6437bebe",
   "metadata": {},
   "outputs": [
    {
     "data": {
      "text/plain": [
       "(tensor([[0.4768]], grad_fn=<SigmoidBackward0>),\n",
       " tensor([[0.1301]], grad_fn=<AddmmBackward0>))"
      ]
     },
     "execution_count": 49,
     "metadata": {},
     "output_type": "execute_result"
    }
   ],
   "source": [
    "t1 = MultiTaskNetwork(610, 9724)\n",
    "t1(torch.Tensor([5]).long(), torch.Tensor([5]).long())"
   ]
  },
  {
   "cell_type": "markdown",
   "id": "b11b7154",
   "metadata": {},
   "source": [
    "### Test Method"
   ]
  },
  {
   "cell_type": "code",
   "execution_count": 54,
   "id": "fb1520e8",
   "metadata": {},
   "outputs": [],
   "source": [
    "def test(model):\n",
    "    model.eval()\n",
    "    \n",
    "    total_loss = []\n",
    "    for indices, labels in dl_val:\n",
    "        ratings = labels[:,0]\n",
    "        watch_time = labels[:,1]\n",
    "        users, items = indices[:,0], indices[:,1]\n",
    "        # Compute model output\n",
    "        outputs = model(users, items)\n",
    "        probability = outputs[0]\n",
    "        watch_time_estimate = outputs[1]\n",
    "        bce_loss = F.binary_cross_entropy(probability, ratings.unsqueeze(1))\n",
    "        mse_loss = F.mse_loss(watch_time_estimate, watch_time.unsqueeze(1))\n",
    "        final_loss = mse_loss + bce_loss\n",
    "        total_loss.append(final_loss.item())\n",
    "    \n",
    "    print(f\"Test Loss: {sum(total_loss) / len(total_loss)}\")"
   ]
  },
  {
   "cell_type": "code",
   "execution_count": 55,
   "id": "686081a7",
   "metadata": {},
   "outputs": [
    {
     "name": "stdout",
     "output_type": "stream",
     "text": [
      "Test Loss: 5227.088439941406\n"
     ]
    }
   ],
   "source": [
    "test(t1)"
   ]
  },
  {
   "cell_type": "markdown",
   "id": "6a7fc6f3",
   "metadata": {},
   "source": [
    "### Training Loop"
   ]
  },
  {
   "cell_type": "code",
   "execution_count": 64,
   "id": "a18a034e",
   "metadata": {},
   "outputs": [],
   "source": [
    "def trainer(model, num_epochs, optimizer):\n",
    "    # Set model in Training mode\n",
    "    model.train()\n",
    "    \n",
    "    # Start training loop\n",
    "    for epoch in range(num_epochs):\n",
    "        total_loss = []\n",
    "        for indices, labels in dl_train:\n",
    "            ratings = labels[:,0]\n",
    "            watch_time = labels[:,1]\n",
    "            users, items = indices[:,0], indices[:,1]\n",
    "            # Compute model output\n",
    "            outputs = model(users, items)\n",
    "            probability = outputs[0]\n",
    "            watch_time_estimate = outputs[1]\n",
    "            bce_loss = F.binary_cross_entropy(probability, ratings.unsqueeze(1))\n",
    "            mse_loss = F.mse_loss(watch_time_estimate, watch_time.unsqueeze(1))\n",
    "            loss = mse_loss + bce_loss\n",
    "\n",
    "            # Update model weights\n",
    "            optimizer.zero_grad()\n",
    "            loss.backward()\n",
    "            optimizer.step()\n",
    "            total_loss.append(loss.item())\n",
    "        \n",
    "        # Print Error\n",
    "        print(f\"{epoch}/{num_epochs} - Loss: {sum(total_loss)/len(total_loss)}\")\n",
    "        \n",
    "        # Test model at regular intervals\n",
    "        if epoch % 10 == 0:\n",
    "            # Test model\n",
    "            test(model)\n",
    "        "
   ]
  },
  {
   "cell_type": "markdown",
   "id": "dc57ba94",
   "metadata": {},
   "source": [
    "### Initialize Model"
   ]
  },
  {
   "cell_type": "code",
   "execution_count": 109,
   "id": "34a87e14",
   "metadata": {},
   "outputs": [],
   "source": [
    "multi_task_model = MultiTaskNetwork(610, 9724)"
   ]
  },
  {
   "cell_type": "code",
   "execution_count": 110,
   "id": "a0ce988c",
   "metadata": {},
   "outputs": [],
   "source": [
    "# Init optimizer\n",
    "optimizer = torch.optim.Adam(multi_task_model.parameters(), lr=0.01)"
   ]
  },
  {
   "cell_type": "markdown",
   "id": "fc44f012",
   "metadata": {},
   "source": [
    "### Training"
   ]
  },
  {
   "cell_type": "code",
   "execution_count": 111,
   "id": "37d457e8",
   "metadata": {},
   "outputs": [
    {
     "name": "stdout",
     "output_type": "stream",
     "text": [
      "0/10 - Loss: 4489.540225758272\n",
      "Test Loss: 1683.684959411621\n",
      "1/10 - Loss: 798.85496969784\n",
      "2/10 - Loss: 445.99508307961855\n",
      "3/10 - Loss: 345.80687578986675\n",
      "4/10 - Loss: 324.74164895450366\n",
      "5/10 - Loss: 319.7574786017923\n",
      "6/10 - Loss: 318.16006828756895\n",
      "7/10 - Loss: 319.84862563189336\n",
      "8/10 - Loss: 320.0834386488971\n",
      "9/10 - Loss: 319.0464692957261\n"
     ]
    }
   ],
   "source": [
    "trainer(multi_task_model, 10, optimizer)"
   ]
  },
  {
   "cell_type": "code",
   "execution_count": 96,
   "id": "cbb1d807",
   "metadata": {},
   "outputs": [
    {
     "name": "stdout",
     "output_type": "stream",
     "text": [
      "Test Loss: 303.41742515563965\n"
     ]
    }
   ],
   "source": [
    "test(multi_task_model)"
   ]
  },
  {
   "cell_type": "markdown",
   "id": "e5225d6a",
   "metadata": {},
   "source": [
    "### Sanity Checks"
   ]
  },
  {
   "cell_type": "code",
   "execution_count": 97,
   "id": "aaee3f66",
   "metadata": {},
   "outputs": [
    {
     "name": "stdout",
     "output_type": "stream",
     "text": [
      "final loss: 301.3646240234375\n"
     ]
    }
   ],
   "source": [
    "indices, labels = next(iter(dl_val))\n",
    "ratings = labels[:,0]\n",
    "watch_time = labels[:,1]\n",
    "users, items = indices[:,0], indices[:,1]\n",
    "# Compute model output\n",
    "outputs = multi_task_model(users, items)\n",
    "probability = outputs[0]\n",
    "watch_time_estimate = outputs[1]\n",
    "bce_loss = F.binary_cross_entropy(probability, ratings.unsqueeze(1))\n",
    "mse_loss = F.mse_loss(watch_time_estimate, watch_time.unsqueeze(1))\n",
    "final_loss = mse_loss + bce_loss\n",
    "print(f\"final loss: {final_loss.item()}\")"
   ]
  },
  {
   "cell_type": "code",
   "execution_count": 98,
   "id": "3d246977",
   "metadata": {},
   "outputs": [
    {
     "data": {
      "text/plain": [
       "tensor([[0.],\n",
       "        [1.],\n",
       "        [0.],\n",
       "        ...,\n",
       "        [1.],\n",
       "        [0.],\n",
       "        [0.]])"
      ]
     },
     "execution_count": 98,
     "metadata": {},
     "output_type": "execute_result"
    }
   ],
   "source": [
    "ratings.unsqueeze(1)"
   ]
  },
  {
   "cell_type": "code",
   "execution_count": 99,
   "id": "8c1cb4dc",
   "metadata": {},
   "outputs": [
    {
     "data": {
      "text/plain": [
       "tensor([[13.0558],\n",
       "        [96.8300],\n",
       "        [63.0757],\n",
       "        ...,\n",
       "        [97.3810],\n",
       "        [12.1854],\n",
       "        [51.4842]])"
      ]
     },
     "execution_count": 99,
     "metadata": {},
     "output_type": "execute_result"
    }
   ],
   "source": [
    "watch_time.unsqueeze(1)"
   ]
  },
  {
   "cell_type": "code",
   "execution_count": 100,
   "id": "e162e431",
   "metadata": {},
   "outputs": [
    {
     "data": {
      "text/plain": [
       "tensor([[1.8048e-06],\n",
       "        [6.2872e-01],\n",
       "        [5.6661e-01],\n",
       "        ...,\n",
       "        [5.9210e-01],\n",
       "        [3.9318e-01],\n",
       "        [4.6515e-01]], grad_fn=<SigmoidBackward0>)"
      ]
     },
     "execution_count": 100,
     "metadata": {},
     "output_type": "execute_result"
    }
   ],
   "source": [
    "probability"
   ]
  },
  {
   "cell_type": "code",
   "execution_count": 101,
   "id": "bab432b5",
   "metadata": {},
   "outputs": [
    {
     "data": {
      "text/plain": [
       "tensor([[14.2858],\n",
       "        [86.4961],\n",
       "        [76.4846],\n",
       "        ...,\n",
       "        [80.6722],\n",
       "        [60.5692],\n",
       "        [65.4123]], grad_fn=<AddmmBackward0>)"
      ]
     },
     "execution_count": 101,
     "metadata": {},
     "output_type": "execute_result"
    }
   ],
   "source": [
    "watch_time_estimate"
   ]
  },
  {
   "cell_type": "markdown",
   "id": "44250f83",
   "metadata": {},
   "source": [
    "### Compute Accuracy for Batch"
   ]
  },
  {
   "cell_type": "code",
   "execution_count": 102,
   "id": "19acd2d0",
   "metadata": {},
   "outputs": [],
   "source": [
    "threshold = 0.5\n",
    "\n",
    "# Convert to class labels\n",
    "class_labels = (probability > threshold).int()"
   ]
  },
  {
   "cell_type": "code",
   "execution_count": 103,
   "id": "10f8c594",
   "metadata": {},
   "outputs": [
    {
     "data": {
      "text/plain": [
       "tensor([[0],\n",
       "        [1],\n",
       "        [1],\n",
       "        ...,\n",
       "        [1],\n",
       "        [0],\n",
       "        [0]], dtype=torch.int32)"
      ]
     },
     "execution_count": 103,
     "metadata": {},
     "output_type": "execute_result"
    }
   ],
   "source": [
    "class_labels"
   ]
  },
  {
   "cell_type": "code",
   "execution_count": 104,
   "id": "220641fc",
   "metadata": {},
   "outputs": [
    {
     "name": "stdout",
     "output_type": "stream",
     "text": [
      "Accuracy: 71.74000000000001 %\n"
     ]
    }
   ],
   "source": [
    "correct_predictions = (class_labels == ratings.unsqueeze(1)).sum().item()\n",
    "total_samples = ratings.size(0)\n",
    "accuracy = correct_predictions / total_samples * 100\n",
    "\n",
    "print(\"Accuracy:\", accuracy, \"%\")"
   ]
  },
  {
   "cell_type": "code",
   "execution_count": 105,
   "id": "a849b31f",
   "metadata": {},
   "outputs": [
    {
     "name": "stdout",
     "output_type": "stream",
     "text": [
      "Average Watch Time Error: 13.3471140625\n"
     ]
    }
   ],
   "source": [
    "watch_time_difference = torch.abs(watch_time.unsqueeze(1) - watch_time_estimate).sum().item() / 5000\n",
    "print(f\"Average Watch Time Error: {watch_time_difference}\")"
   ]
  },
  {
   "cell_type": "code",
   "execution_count": null,
   "id": "cef37618",
   "metadata": {},
   "outputs": [],
   "source": []
  }
 ],
 "metadata": {
  "kernelspec": {
   "display_name": "torch",
   "language": "python",
   "name": "torch"
  },
  "language_info": {
   "codemirror_mode": {
    "name": "ipython",
    "version": 3
   },
   "file_extension": ".py",
   "mimetype": "text/x-python",
   "name": "python",
   "nbconvert_exporter": "python",
   "pygments_lexer": "ipython3",
   "version": "3.10.4"
  }
 },
 "nbformat": 4,
 "nbformat_minor": 5
}
