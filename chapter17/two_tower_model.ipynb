{
 "cells": [
  {
   "cell_type": "markdown",
   "id": "03603465",
   "metadata": {},
   "source": [
    "# Two Tower Neural Networks Recommendation Model"
   ]
  },
  {
   "cell_type": "code",
   "execution_count": 129,
   "id": "e433f232",
   "metadata": {},
   "outputs": [],
   "source": [
    "import torch\n",
    "import torch.nn as nn\n",
    "from torch.utils.data import Dataset, DataLoader, TensorDataset\n",
    "import torch.nn.functional as F\n",
    "import pandas as pd\n",
    "import numpy as np\n",
    "import itertools"
   ]
  },
  {
   "cell_type": "markdown",
   "id": "a1bed806",
   "metadata": {},
   "source": [
    "### Loading Dataset"
   ]
  },
  {
   "cell_type": "code",
   "execution_count": 353,
   "id": "d111f235",
   "metadata": {},
   "outputs": [],
   "source": [
    "data = pd.read_csv(\"./ratings.csv\")"
   ]
  },
  {
   "cell_type": "code",
   "execution_count": 354,
   "id": "f59f5be6",
   "metadata": {},
   "outputs": [
    {
     "data": {
      "text/html": [
       "<div>\n",
       "<style scoped>\n",
       "    .dataframe tbody tr th:only-of-type {\n",
       "        vertical-align: middle;\n",
       "    }\n",
       "\n",
       "    .dataframe tbody tr th {\n",
       "        vertical-align: top;\n",
       "    }\n",
       "\n",
       "    .dataframe thead th {\n",
       "        text-align: right;\n",
       "    }\n",
       "</style>\n",
       "<table border=\"1\" class=\"dataframe\">\n",
       "  <thead>\n",
       "    <tr style=\"text-align: right;\">\n",
       "      <th></th>\n",
       "      <th>userId</th>\n",
       "      <th>movieId</th>\n",
       "      <th>rating</th>\n",
       "      <th>timestamp</th>\n",
       "    </tr>\n",
       "  </thead>\n",
       "  <tbody>\n",
       "    <tr>\n",
       "      <th>0</th>\n",
       "      <td>1</td>\n",
       "      <td>1</td>\n",
       "      <td>4.0</td>\n",
       "      <td>964982703</td>\n",
       "    </tr>\n",
       "    <tr>\n",
       "      <th>1</th>\n",
       "      <td>1</td>\n",
       "      <td>3</td>\n",
       "      <td>4.0</td>\n",
       "      <td>964981247</td>\n",
       "    </tr>\n",
       "    <tr>\n",
       "      <th>2</th>\n",
       "      <td>1</td>\n",
       "      <td>6</td>\n",
       "      <td>4.0</td>\n",
       "      <td>964982224</td>\n",
       "    </tr>\n",
       "    <tr>\n",
       "      <th>3</th>\n",
       "      <td>1</td>\n",
       "      <td>47</td>\n",
       "      <td>5.0</td>\n",
       "      <td>964983815</td>\n",
       "    </tr>\n",
       "    <tr>\n",
       "      <th>4</th>\n",
       "      <td>1</td>\n",
       "      <td>50</td>\n",
       "      <td>5.0</td>\n",
       "      <td>964982931</td>\n",
       "    </tr>\n",
       "  </tbody>\n",
       "</table>\n",
       "</div>"
      ],
      "text/plain": [
       "   userId  movieId  rating  timestamp\n",
       "0       1        1     4.0  964982703\n",
       "1       1        3     4.0  964981247\n",
       "2       1        6     4.0  964982224\n",
       "3       1       47     5.0  964983815\n",
       "4       1       50     5.0  964982931"
      ]
     },
     "execution_count": 354,
     "metadata": {},
     "output_type": "execute_result"
    }
   ],
   "source": [
    "data.head()"
   ]
  },
  {
   "cell_type": "code",
   "execution_count": 355,
   "id": "998ed89d",
   "metadata": {},
   "outputs": [],
   "source": [
    "data['userId'] = data['userId'] - 1\n",
    "data['movieId'] = data['movieId'] - 1"
   ]
  },
  {
   "cell_type": "code",
   "execution_count": 356,
   "id": "7b08f12a",
   "metadata": {},
   "outputs": [],
   "source": [
    "data.drop_duplicates(inplace=True)"
   ]
  },
  {
   "cell_type": "code",
   "execution_count": 357,
   "id": "e246471a",
   "metadata": {},
   "outputs": [],
   "source": [
    "data.dropna(inplace=True)"
   ]
  },
  {
   "cell_type": "code",
   "execution_count": 358,
   "id": "a92d489d",
   "metadata": {},
   "outputs": [],
   "source": [
    "def fillID(df, col):\n",
    "    m = dict({-1:-1})\n",
    "    new_col = []\n",
    "    for value in df[col].values:\n",
    "        if value in m:\n",
    "            new_col.append(m[value])\n",
    "        else:\n",
    "            new_index = max(m.values()) + 1\n",
    "            m[value] = new_index\n",
    "            new_col.append(new_index)\n",
    "    df[col+\"Index\"] = new_col\n",
    "    return"
   ]
  },
  {
   "cell_type": "code",
   "execution_count": 359,
   "id": "46aee15a",
   "metadata": {},
   "outputs": [],
   "source": [
    "fillID(data, 'userId')\n",
    "fillID(data, 'movieId')"
   ]
  },
  {
   "cell_type": "code",
   "execution_count": 360,
   "id": "c54c8012",
   "metadata": {},
   "outputs": [],
   "source": [
    "def normalize(data):\n",
    "    \"\"\"\n",
    "    Normalize the data to the range [0, 1].\n",
    "    \n",
    "    Parameters:\n",
    "    data (numpy array): Input data to be normalized.\n",
    "    \n",
    "    Returns:\n",
    "    normalized_data (numpy array): Normalized data.\n",
    "    \"\"\"\n",
    "    min_val = np.min(data)\n",
    "    max_val = np.max(data)\n",
    "    normalized_data = (data - min_val) / (max_val - min_val)\n",
    "    return normalized_data"
   ]
  },
  {
   "cell_type": "markdown",
   "id": "b5417115",
   "metadata": {},
   "source": [
    "### Converting Continous Rating to Class"
   ]
  },
  {
   "cell_type": "code",
   "execution_count": 361,
   "id": "67d55ae2",
   "metadata": {},
   "outputs": [],
   "source": [
    "# data['rating] = normalize(data['rating'].values)\n",
    "def get_class(x):\n",
    "    if x < 4.0:\n",
    "        return 0\n",
    "    return 1\n",
    "data['rating'] = data['rating'].apply(lambda x: get_class(x))"
   ]
  },
  {
   "cell_type": "code",
   "execution_count": 362,
   "id": "fcc49f10",
   "metadata": {},
   "outputs": [
    {
     "data": {
      "text/plain": [
       "0    52256\n",
       "1    48580\n",
       "Name: rating, dtype: int64"
      ]
     },
     "execution_count": 362,
     "metadata": {},
     "output_type": "execute_result"
    }
   ],
   "source": [
    "data['rating'].value_counts()"
   ]
  },
  {
   "cell_type": "markdown",
   "id": "938aac9b",
   "metadata": {},
   "source": [
    "### Train/Test Splitting"
   ]
  },
  {
   "cell_type": "code",
   "execution_count": 363,
   "id": "63fa7031",
   "metadata": {},
   "outputs": [],
   "source": [
    "np.random.seed(3)\n",
    "msk = np.random.rand(len(data)) < 0.8 # 80% Train, 20% Test\n",
    "train = data[msk].copy()\n",
    "validation = data[~msk].copy()"
   ]
  },
  {
   "cell_type": "code",
   "execution_count": 364,
   "id": "02a9be19",
   "metadata": {},
   "outputs": [
    {
     "data": {
      "text/plain": [
       "(100836, 80450, 20386)"
      ]
     },
     "execution_count": 364,
     "metadata": {},
     "output_type": "execute_result"
    }
   ],
   "source": [
    "len(data), len(train), len(validation)"
   ]
  },
  {
   "cell_type": "code",
   "execution_count": 365,
   "id": "0c7c5bed",
   "metadata": {},
   "outputs": [
    {
     "data": {
      "text/plain": [
       "Index(['userId', 'movieId', 'rating', 'timestamp', 'userIdIndex',\n",
       "       'movieIdIndex'],\n",
       "      dtype='object')"
      ]
     },
     "execution_count": 365,
     "metadata": {},
     "output_type": "execute_result"
    }
   ],
   "source": [
    "train.columns"
   ]
  },
  {
   "cell_type": "code",
   "execution_count": 366,
   "id": "d63f2aff",
   "metadata": {},
   "outputs": [],
   "source": [
    "num_users = data['userIdIndex'].nunique()\n",
    "num_movies = data['movieIdIndex'].nunique()"
   ]
  },
  {
   "cell_type": "code",
   "execution_count": 367,
   "id": "c77cc64b",
   "metadata": {},
   "outputs": [
    {
     "name": "stdout",
     "output_type": "stream",
     "text": [
      "610 9724\n"
     ]
    }
   ],
   "source": [
    "print(num_users, num_movies)"
   ]
  },
  {
   "cell_type": "code",
   "execution_count": 368,
   "id": "bc41b643",
   "metadata": {},
   "outputs": [
    {
     "data": {
      "text/html": [
       "<div>\n",
       "<style scoped>\n",
       "    .dataframe tbody tr th:only-of-type {\n",
       "        vertical-align: middle;\n",
       "    }\n",
       "\n",
       "    .dataframe tbody tr th {\n",
       "        vertical-align: top;\n",
       "    }\n",
       "\n",
       "    .dataframe thead th {\n",
       "        text-align: right;\n",
       "    }\n",
       "</style>\n",
       "<table border=\"1\" class=\"dataframe\">\n",
       "  <thead>\n",
       "    <tr style=\"text-align: right;\">\n",
       "      <th></th>\n",
       "      <th>userId</th>\n",
       "      <th>movieId</th>\n",
       "      <th>rating</th>\n",
       "      <th>timestamp</th>\n",
       "      <th>userIdIndex</th>\n",
       "      <th>movieIdIndex</th>\n",
       "    </tr>\n",
       "  </thead>\n",
       "  <tbody>\n",
       "    <tr>\n",
       "      <th>0</th>\n",
       "      <td>0</td>\n",
       "      <td>0</td>\n",
       "      <td>1</td>\n",
       "      <td>964982703</td>\n",
       "      <td>0</td>\n",
       "      <td>0</td>\n",
       "    </tr>\n",
       "    <tr>\n",
       "      <th>1</th>\n",
       "      <td>0</td>\n",
       "      <td>2</td>\n",
       "      <td>1</td>\n",
       "      <td>964981247</td>\n",
       "      <td>0</td>\n",
       "      <td>1</td>\n",
       "    </tr>\n",
       "    <tr>\n",
       "      <th>2</th>\n",
       "      <td>0</td>\n",
       "      <td>5</td>\n",
       "      <td>1</td>\n",
       "      <td>964982224</td>\n",
       "      <td>0</td>\n",
       "      <td>2</td>\n",
       "    </tr>\n",
       "    <tr>\n",
       "      <th>3</th>\n",
       "      <td>0</td>\n",
       "      <td>46</td>\n",
       "      <td>1</td>\n",
       "      <td>964983815</td>\n",
       "      <td>0</td>\n",
       "      <td>3</td>\n",
       "    </tr>\n",
       "    <tr>\n",
       "      <th>6</th>\n",
       "      <td>0</td>\n",
       "      <td>100</td>\n",
       "      <td>1</td>\n",
       "      <td>964980868</td>\n",
       "      <td>0</td>\n",
       "      <td>6</td>\n",
       "    </tr>\n",
       "  </tbody>\n",
       "</table>\n",
       "</div>"
      ],
      "text/plain": [
       "   userId  movieId  rating  timestamp  userIdIndex  movieIdIndex\n",
       "0       0        0       1  964982703            0             0\n",
       "1       0        2       1  964981247            0             1\n",
       "2       0        5       1  964982224            0             2\n",
       "3       0       46       1  964983815            0             3\n",
       "6       0      100       1  964980868            0             6"
      ]
     },
     "execution_count": 368,
     "metadata": {},
     "output_type": "execute_result"
    }
   ],
   "source": [
    "train.head()"
   ]
  },
  {
   "cell_type": "markdown",
   "id": "1f2e52d1",
   "metadata": {},
   "source": [
    "### Dataset and Dataloader"
   ]
  },
  {
   "cell_type": "code",
   "execution_count": 415,
   "id": "46de8f00",
   "metadata": {},
   "outputs": [],
   "source": [
    "batch_size = 5000\n",
    "\n",
    "train_features = torch.LongTensor(train[['userIdIndex', 'movieIdIndex']].values)\n",
    "train_target = torch.Tensor(train[['rating']].values).float()\n",
    "\n",
    "train_ds = TensorDataset(train_features, train_target)\n",
    "dl_train = DataLoader(train_ds, batch_size, shuffle=True, num_workers=4)\n",
    "\n",
    "val_features = torch.LongTensor(validation[['userIdIndex', 'movieIdIndex']].values)\n",
    "val_target = torch.Tensor(validation[['rating']].values).float()\n",
    "\n",
    "val_ds = TensorDataset(val_features, val_target)\n",
    "dl_val = DataLoader(train_ds, batch_size, shuffle=True, num_workers=4, drop_last=True)"
   ]
  },
  {
   "cell_type": "code",
   "execution_count": 416,
   "id": "f78a2612",
   "metadata": {},
   "outputs": [
    {
     "name": "stdout",
     "output_type": "stream",
     "text": [
      "tensor([[  26, 1768],\n",
      "        [  80,  621],\n",
      "        [ 232, 1932],\n",
      "        ...,\n",
      "        [ 130, 2808],\n",
      "        [ 232, 5744],\n",
      "        [ 520,  523]])\n",
      "tensor([[0.],\n",
      "        [0.],\n",
      "        [0.],\n",
      "        ...,\n",
      "        [0.],\n",
      "        [0.],\n",
      "        [0.]])\n"
     ]
    }
   ],
   "source": [
    "xb, yb = next(iter(dl_train))\n",
    "print(xb)\n",
    "print(yb)"
   ]
  },
  {
   "cell_type": "markdown",
   "id": "3ce13fca",
   "metadata": {},
   "source": [
    "### Two Tower Model"
   ]
  },
  {
   "cell_type": "markdown",
   "id": "ba477d0c",
   "metadata": {},
   "source": [
    "![alt text](model.png \"Two Tower Model\")"
   ]
  },
  {
   "cell_type": "markdown",
   "id": "05a353af",
   "metadata": {},
   "source": [
    "### Tower"
   ]
  },
  {
   "cell_type": "code",
   "execution_count": 371,
   "id": "6ec9ca53",
   "metadata": {},
   "outputs": [],
   "source": [
    "# Towers Model\n",
    "class Tower(nn.Module):\n",
    "    def __init__(self, num_ids, emb_size=64):\n",
    "        super(Tower, self).__init__()\n",
    "        self.embedding = nn.Embedding(num_ids, emb_size)\n",
    "        self.embedding.weight.data.uniform_(0, 0.05)\n",
    "        \n",
    "        # FC layers\n",
    "        self.fc1 = nn.Linear(emb_size, emb_size//2)\n",
    "        self.fc2 = nn.Linear(emb_size//2, emb_size//4)\n",
    "    \n",
    "    def forward(self, x):\n",
    "        emb = self.embedding(x)\n",
    "        x = nn.functional.relu(self.fc1(emb))\n",
    "        x = nn.functional.relu(self.fc2(x))\n",
    "        return x"
   ]
  },
  {
   "cell_type": "code",
   "execution_count": 372,
   "id": "6437bebe",
   "metadata": {},
   "outputs": [
    {
     "data": {
      "text/plain": [
       "tensor([[0.0000, 0.4029, 0.3279, 0.0000, 0.0000]], grad_fn=<ReluBackward0>)"
      ]
     },
     "execution_count": 372,
     "metadata": {},
     "output_type": "execute_result"
    }
   ],
   "source": [
    "t1 = Tower(10, 20)\n",
    "t1(torch.Tensor([5]).long())"
   ]
  },
  {
   "cell_type": "markdown",
   "id": "c281018f",
   "metadata": {},
   "source": [
    "### Common Deep Neural Network"
   ]
  },
  {
   "cell_type": "code",
   "execution_count": 377,
   "id": "103b95da",
   "metadata": {},
   "outputs": [],
   "source": [
    "class DNN(nn.Module):\n",
    "    def __init__(self, input_size, output_size):\n",
    "        super(DNN, self).__init__()\n",
    "        self.fc1 = nn.Linear(input_size, input_size * 2)\n",
    "        self.fc2 = nn.Linear(input_size * 2, output_size)\n",
    "    \n",
    "    def forward(self, x):\n",
    "        x = nn.functional.relu(self.fc1(x))\n",
    "        x = torch.sigmoid(self.fc2(x))\n",
    "        return x"
   ]
  },
  {
   "cell_type": "code",
   "execution_count": 378,
   "id": "a3cff9be",
   "metadata": {},
   "outputs": [
    {
     "data": {
      "text/plain": [
       "tensor([0.4133], grad_fn=<SigmoidBackward0>)"
      ]
     },
     "execution_count": 378,
     "metadata": {},
     "output_type": "execute_result"
    }
   ],
   "source": [
    "dnn = DNN(5, 1)\n",
    "out = dnn(torch.Tensor([1.0,2.0,3.0,4.0,5.0]))\n",
    "out"
   ]
  },
  {
   "cell_type": "code",
   "execution_count": 380,
   "id": "a001c4f5",
   "metadata": {},
   "outputs": [
    {
     "data": {
      "text/plain": [
       "tensor(0.8835, grad_fn=<BinaryCrossEntropyBackward0>)"
      ]
     },
     "execution_count": 380,
     "metadata": {},
     "output_type": "execute_result"
    }
   ],
   "source": [
    "F.binary_cross_entropy(out, torch.Tensor([1.0]))"
   ]
  },
  {
   "cell_type": "markdown",
   "id": "6a7fc6f3",
   "metadata": {},
   "source": [
    "### Training Loop"
   ]
  },
  {
   "cell_type": "code",
   "execution_count": 438,
   "id": "a18a034e",
   "metadata": {},
   "outputs": [],
   "source": [
    "def test(tower1, tower2, dnn):\n",
    "    tower1.eval()\n",
    "    tower2.eval()\n",
    "    dnn.eval()\n",
    "    \n",
    "    total_loss = []\n",
    "    for indices, ratings in dl_val:\n",
    "        ratings = ratings.squeeze(1)\n",
    "        users, items = indices[:,0], indices[:,1]\n",
    "        # Compute model output\n",
    "        out1 = tower1(users)\n",
    "        out2 = tower2(items)\n",
    "        output = dnn(torch.cat([out1, out2], dim=1))\n",
    "        loss = F.binary_cross_entropy(output, ratings.unsqueeze(1))\n",
    "        total_loss.append(loss.item())\n",
    "    \n",
    "    print(f\"Test Loss: {sum(total_loss) / len(total_loss)}\")\n",
    "    \n",
    "    \n",
    "def trainer(tower1, tower2, dnn, num_epochs, optimizer):\n",
    "    # Set model in Training mode\n",
    "    tower1.train()\n",
    "    tower2.train()\n",
    "    dnn.train()\n",
    "    \n",
    "    # Start training loop\n",
    "    for epoch in range(num_epochs):\n",
    "        total_loss = []\n",
    "        for indices, ratings in dl_train:\n",
    "            ratings = ratings.squeeze(1)\n",
    "            users, items = indices[:,0], indices[:,1]\n",
    "            # Compute model output\n",
    "            out1 = tower1(users)\n",
    "            out2 = tower2(items)\n",
    "            out = torch.cat([out1, out2], dim=1)\n",
    "            output = dnn(out)\n",
    "            # Compute Loss\n",
    "            loss = F.binary_cross_entropy(output, ratings.unsqueeze(1))\n",
    "\n",
    "            # Update model weights\n",
    "            optimizer.zero_grad()\n",
    "            loss.backward()\n",
    "            optimizer.step()\n",
    "            total_loss.append(loss.item())\n",
    "        \n",
    "        # Print Error\n",
    "        print(f\"{epoch}/{num_epochs} - Loss: {sum(total_loss)/len(total_loss)}\")\n",
    "        \n",
    "        # Test model at regular intervals\n",
    "        if epoch % 10 == 0:\n",
    "            # Test model\n",
    "            test(tower1, tower2, dnn)\n",
    "        "
   ]
  },
  {
   "cell_type": "markdown",
   "id": "dc57ba94",
   "metadata": {},
   "source": [
    "### Initialize Model"
   ]
  },
  {
   "cell_type": "code",
   "execution_count": 439,
   "id": "34a87e14",
   "metadata": {},
   "outputs": [],
   "source": [
    "user_tower = Tower(610) # num users\n",
    "item_tower = Tower(9724) # num items\n",
    "dnn = DNN(32, 1)"
   ]
  },
  {
   "cell_type": "code",
   "execution_count": 440,
   "id": "a0ce988c",
   "metadata": {},
   "outputs": [],
   "source": [
    "# Init optimizer\n",
    "parameters = list(user_tower.parameters()) + list(item_tower.parameters()) + list(dnn.parameters())\n",
    "optimizer = torch.optim.Adam(parameters, lr=0.01)"
   ]
  },
  {
   "cell_type": "markdown",
   "id": "fc44f012",
   "metadata": {},
   "source": [
    "### Training"
   ]
  },
  {
   "cell_type": "code",
   "execution_count": 449,
   "id": "37d457e8",
   "metadata": {},
   "outputs": [
    {
     "name": "stdout",
     "output_type": "stream",
     "text": [
      "0/10 - Loss: 0.46899214211632223\n",
      "Test Loss: 0.4599958937615156\n",
      "1/10 - Loss: 0.46612585467450757\n",
      "2/10 - Loss: 0.46353044755318584\n",
      "3/10 - Loss: 0.4605325986357296\n",
      "4/10 - Loss: 0.4624222394298105\n",
      "5/10 - Loss: 0.4555685485110563\n",
      "6/10 - Loss: 0.4533233081593233\n",
      "7/10 - Loss: 0.4509568652685951\n",
      "8/10 - Loss: 0.44538164840025063\n",
      "9/10 - Loss: 0.4409148184692158\n"
     ]
    }
   ],
   "source": [
    "trainer(user_tower, item_tower, dnn, 10, optimizer)"
   ]
  },
  {
   "cell_type": "code",
   "execution_count": 450,
   "id": "cbb1d807",
   "metadata": {},
   "outputs": [
    {
     "name": "stdout",
     "output_type": "stream",
     "text": [
      "Test Loss: 0.4321808349341154\n"
     ]
    }
   ],
   "source": [
    "test(user_tower, item_tower, dnn)"
   ]
  },
  {
   "cell_type": "markdown",
   "id": "e5225d6a",
   "metadata": {},
   "source": [
    "### Sanity Checks"
   ]
  },
  {
   "cell_type": "code",
   "execution_count": 451,
   "id": "aaee3f66",
   "metadata": {},
   "outputs": [
    {
     "name": "stdout",
     "output_type": "stream",
     "text": [
      "Loss:  0.14655284583568573\n"
     ]
    }
   ],
   "source": [
    "indices, ratings = next(iter(dl_val))\n",
    "ratings = ratings.squeeze(1)\n",
    "users, items = indices[:,0], indices[:,1]\n",
    "# Compute model output\n",
    "out1 = user_tower(users)\n",
    "out2 = item_tower(items)\n",
    "output = dnn(torch.cat([out1, out2], dim=1))\n",
    "loss = F.mse_loss(output, ratings.unsqueeze(1))\n",
    "print(\"Loss: \",loss.item())"
   ]
  },
  {
   "cell_type": "code",
   "execution_count": 452,
   "id": "3d246977",
   "metadata": {},
   "outputs": [
    {
     "data": {
      "text/plain": [
       "tensor([[0.],\n",
       "        [0.],\n",
       "        [1.],\n",
       "        ...,\n",
       "        [1.],\n",
       "        [1.],\n",
       "        [0.]])"
      ]
     },
     "execution_count": 452,
     "metadata": {},
     "output_type": "execute_result"
    }
   ],
   "source": [
    "ratings.unsqueeze(1)"
   ]
  },
  {
   "cell_type": "code",
   "execution_count": 453,
   "id": "8c1cb4dc",
   "metadata": {},
   "outputs": [
    {
     "data": {
      "text/plain": [
       "tensor([[7.5827e-01],\n",
       "        [5.9585e-08],\n",
       "        [9.0548e-01],\n",
       "        ...,\n",
       "        [8.4901e-01],\n",
       "        [9.6559e-01],\n",
       "        [5.8793e-01]], grad_fn=<SigmoidBackward0>)"
      ]
     },
     "execution_count": 453,
     "metadata": {},
     "output_type": "execute_result"
    }
   ],
   "source": [
    "output"
   ]
  },
  {
   "cell_type": "markdown",
   "id": "44250f83",
   "metadata": {},
   "source": [
    "### Compute Accuracy for Batch"
   ]
  },
  {
   "cell_type": "code",
   "execution_count": 454,
   "id": "19acd2d0",
   "metadata": {},
   "outputs": [],
   "source": [
    "threshold = 0.5\n",
    "\n",
    "# Convert to class labels\n",
    "class_labels = (output > threshold).int()"
   ]
  },
  {
   "cell_type": "code",
   "execution_count": 455,
   "id": "10f8c594",
   "metadata": {},
   "outputs": [
    {
     "data": {
      "text/plain": [
       "tensor([[1],\n",
       "        [0],\n",
       "        [1],\n",
       "        ...,\n",
       "        [1],\n",
       "        [1],\n",
       "        [1]], dtype=torch.int32)"
      ]
     },
     "execution_count": 455,
     "metadata": {},
     "output_type": "execute_result"
    }
   ],
   "source": [
    "class_labels"
   ]
  },
  {
   "cell_type": "code",
   "execution_count": 456,
   "id": "220641fc",
   "metadata": {},
   "outputs": [
    {
     "name": "stdout",
     "output_type": "stream",
     "text": [
      "Accuracy: 77.52 %\n"
     ]
    }
   ],
   "source": [
    "correct_predictions = (class_labels == ratings.unsqueeze(1)).sum().item()\n",
    "total_samples = ratings.size(0)\n",
    "accuracy = correct_predictions / total_samples * 100\n",
    "\n",
    "print(\"Accuracy:\", accuracy, \"%\")"
   ]
  },
  {
   "cell_type": "code",
   "execution_count": null,
   "id": "a849b31f",
   "metadata": {},
   "outputs": [],
   "source": []
  }
 ],
 "metadata": {
  "kernelspec": {
   "display_name": "torch",
   "language": "python",
   "name": "torch"
  },
  "language_info": {
   "codemirror_mode": {
    "name": "ipython",
    "version": 3
   },
   "file_extension": ".py",
   "mimetype": "text/x-python",
   "name": "python",
   "nbconvert_exporter": "python",
   "pygments_lexer": "ipython3",
   "version": "3.10.4"
  }
 },
 "nbformat": 4,
 "nbformat_minor": 5
}
