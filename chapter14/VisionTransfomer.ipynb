{
  "nbformat": 4,
  "nbformat_minor": 0,
  "metadata": {
    "colab": {
      "provenance": [],
      "machine_shape": "hm",
      "gpuType": "A100"
    },
    "kernelspec": {
      "name": "python3",
      "display_name": "Python 3"
    },
    "language_info": {
      "name": "python"
    },
    "accelerator": "GPU"
  },
  "cells": [
    {
      "cell_type": "markdown",
      "source": [
        "# Vision Transformer for Text Classification on CIFAR-10"
      ],
      "metadata": {
        "id": "CTA99mzwHTlA"
      }
    },
    {
      "cell_type": "code",
      "execution_count": 2,
      "metadata": {
        "id": "guLVvLCRz7Hw"
      },
      "outputs": [],
      "source": [
        "# Imports\n",
        "import math\n",
        "import torch\n",
        "import torch.nn as nn\n",
        "import torch.optim as optim\n",
        "import torchvision.transforms as transforms\n",
        "import torchvision.datasets as datasets\n",
        "import matplotlib.pyplot as plt\n",
        "from sklearn.metrics import accuracy_score"
      ]
    },
    {
      "cell_type": "code",
      "source": [
        "device = torch.device(\"cuda\" if torch.cuda.is_available() else \"cpu\")"
      ],
      "metadata": {
        "id": "gAhi19nrQK1O"
      },
      "execution_count": 3,
      "outputs": []
    },
    {
      "cell_type": "code",
      "source": [
        "device"
      ],
      "metadata": {
        "colab": {
          "base_uri": "https://localhost:8080/"
        },
        "id": "v5PX4GNhRtQR",
        "outputId": "b7d9a17c-7b9f-4f38-bcc6-30fe273afb29"
      },
      "execution_count": 4,
      "outputs": [
        {
          "output_type": "execute_result",
          "data": {
            "text/plain": [
              "device(type='cuda')"
            ]
          },
          "metadata": {},
          "execution_count": 4
        }
      ]
    },
    {
      "cell_type": "markdown",
      "source": [
        "### Loading Dataset and Transforming it"
      ],
      "metadata": {
        "id": "nTiTCZCaHX1y"
      }
    },
    {
      "cell_type": "code",
      "source": [
        "def patching(image_tensor, patch_size=8):\n",
        "  patches = image_tensor.unfold(1, patch_size, patch_size).unfold(2, patch_size, patch_size)\n",
        "  patches = patches.contiguous().view(3, 16, 8, 8)\n",
        "  return patches\n",
        "\n",
        "my_transforms = transforms.Compose([transforms.ToTensor(),\n",
        "                                    transforms.Normalize(mean=[0.5, 0.5, 0.5],std=[0.5, 0.5, 0.5]),\n",
        "                                    ])#transforms.Lambda(lambda x: patching(x, patch_size=8))])"
      ],
      "metadata": {
        "id": "K9hcc3Ex0LNX"
      },
      "execution_count": 36,
      "outputs": []
    },
    {
      "cell_type": "markdown",
      "source": [
        "### Total 10 Labels in CIFAR-10 as shown below"
      ],
      "metadata": {
        "id": "Pa6tXfgbHgUA"
      }
    },
    {
      "cell_type": "code",
      "source": [
        "# Labels\n",
        "labels = \"\"\"airplane\n",
        "automobile\n",
        "bird\n",
        "cat\n",
        "deer\n",
        "dog\n",
        "frog\n",
        "horse\n",
        "ship\n",
        "truck\"\"\".split()\n",
        "labels = {i: name for i, name in enumerate(labels)}"
      ],
      "metadata": {
        "id": "F9o7HTFW9BGs"
      },
      "execution_count": 37,
      "outputs": []
    },
    {
      "cell_type": "code",
      "source": [
        "# Original Image Size of 32x32 and 10 Classes Present in the dataset\n",
        "train = datasets.CIFAR10('./', download=True, train=True, transform=my_transforms)\n",
        "test = datasets.CIFAR10('./', download=True, train=False, transform=my_transforms)"
      ],
      "metadata": {
        "colab": {
          "base_uri": "https://localhost:8080/"
        },
        "id": "YgjdlLYU0C_h",
        "outputId": "8278d1c1-959b-4a30-f54b-25892bf2598b"
      },
      "execution_count": 38,
      "outputs": [
        {
          "output_type": "stream",
          "name": "stdout",
          "text": [
            "Files already downloaded and verified\n",
            "Files already downloaded and verified\n"
          ]
        }
      ]
    },
    {
      "cell_type": "code",
      "source": [
        "train_dataloader = torch.utils.data.DataLoader(train, batch_size=128, shuffle=True)\n",
        "test_dataloader = torch.utils.data.DataLoader(test, batch_size=128, shuffle=True)"
      ],
      "metadata": {
        "id": "F4_BBOqg0mJU"
      },
      "execution_count": 39,
      "outputs": []
    },
    {
      "cell_type": "code",
      "source": [
        "images, label = next(iter(train_dataloader))"
      ],
      "metadata": {
        "id": "iqngvHEk0rKA"
      },
      "execution_count": 40,
      "outputs": []
    },
    {
      "cell_type": "code",
      "source": [
        "images.shape,"
      ],
      "metadata": {
        "colab": {
          "base_uri": "https://localhost:8080/"
        },
        "id": "r5zU1Hc80zb3",
        "outputId": "cd203c6f-543c-4aed-fa61-ddec3db414da"
      },
      "execution_count": 41,
      "outputs": [
        {
          "output_type": "execute_result",
          "data": {
            "text/plain": [
              "(torch.Size([128, 3, 32, 32]),)"
            ]
          },
          "metadata": {},
          "execution_count": 41
        }
      ]
    },
    {
      "cell_type": "code",
      "source": [
        "[labels[i] for i in label.numpy()]"
      ],
      "metadata": {
        "colab": {
          "base_uri": "https://localhost:8080/"
        },
        "id": "nfuaxFJm7Xkk",
        "outputId": "2db23b25-23ed-4b7f-f1ce-2141c5402036"
      },
      "execution_count": 11,
      "outputs": [
        {
          "output_type": "execute_result",
          "data": {
            "text/plain": [
              "['horse',\n",
              " 'dog',\n",
              " 'bird',\n",
              " 'truck',\n",
              " 'ship',\n",
              " 'cat',\n",
              " 'airplane',\n",
              " 'ship',\n",
              " 'ship',\n",
              " 'airplane',\n",
              " 'ship',\n",
              " 'dog',\n",
              " 'dog',\n",
              " 'frog',\n",
              " 'automobile',\n",
              " 'bird',\n",
              " 'bird',\n",
              " 'horse',\n",
              " 'deer',\n",
              " 'horse',\n",
              " 'horse',\n",
              " 'dog',\n",
              " 'horse',\n",
              " 'dog',\n",
              " 'airplane',\n",
              " 'dog',\n",
              " 'cat',\n",
              " 'ship',\n",
              " 'deer',\n",
              " 'dog',\n",
              " 'horse',\n",
              " 'ship',\n",
              " 'bird',\n",
              " 'ship',\n",
              " 'deer',\n",
              " 'airplane',\n",
              " 'frog',\n",
              " 'frog',\n",
              " 'truck',\n",
              " 'bird',\n",
              " 'ship',\n",
              " 'ship',\n",
              " 'dog',\n",
              " 'deer',\n",
              " 'automobile',\n",
              " 'truck',\n",
              " 'truck',\n",
              " 'dog',\n",
              " 'horse',\n",
              " 'truck',\n",
              " 'dog',\n",
              " 'bird',\n",
              " 'horse',\n",
              " 'truck',\n",
              " 'bird',\n",
              " 'dog',\n",
              " 'deer',\n",
              " 'dog',\n",
              " 'truck',\n",
              " 'deer',\n",
              " 'airplane',\n",
              " 'dog',\n",
              " 'frog',\n",
              " 'cat',\n",
              " 'dog',\n",
              " 'bird',\n",
              " 'airplane',\n",
              " 'truck',\n",
              " 'deer',\n",
              " 'automobile',\n",
              " 'truck',\n",
              " 'dog',\n",
              " 'ship',\n",
              " 'horse',\n",
              " 'cat',\n",
              " 'truck',\n",
              " 'frog',\n",
              " 'cat',\n",
              " 'horse',\n",
              " 'truck',\n",
              " 'horse',\n",
              " 'airplane',\n",
              " 'dog',\n",
              " 'dog',\n",
              " 'ship',\n",
              " 'dog',\n",
              " 'cat',\n",
              " 'horse',\n",
              " 'dog',\n",
              " 'deer',\n",
              " 'frog',\n",
              " 'cat',\n",
              " 'ship',\n",
              " 'truck',\n",
              " 'bird',\n",
              " 'ship',\n",
              " 'dog',\n",
              " 'dog',\n",
              " 'dog',\n",
              " 'cat',\n",
              " 'frog',\n",
              " 'dog',\n",
              " 'airplane',\n",
              " 'bird',\n",
              " 'frog',\n",
              " 'airplane',\n",
              " 'dog',\n",
              " 'horse',\n",
              " 'horse',\n",
              " 'frog',\n",
              " 'deer',\n",
              " 'dog',\n",
              " 'truck',\n",
              " 'truck',\n",
              " 'automobile',\n",
              " 'truck',\n",
              " 'dog',\n",
              " 'cat',\n",
              " 'horse',\n",
              " 'ship',\n",
              " 'deer',\n",
              " 'deer',\n",
              " 'ship',\n",
              " 'dog',\n",
              " 'ship',\n",
              " 'horse',\n",
              " 'bird',\n",
              " 'dog']"
            ]
          },
          "metadata": {},
          "execution_count": 11
        }
      ]
    },
    {
      "cell_type": "markdown",
      "source": [
        "### Plotting Image Patches"
      ],
      "metadata": {
        "id": "DoYYJ7fwHQvY"
      }
    },
    {
      "cell_type": "code",
      "source": [
        "def plot_patches(patches, label, ncols=4):\n",
        "    n = patches.shape[1]\n",
        "    nrows = math.ceil(n / ncols)\n",
        "    fig, axes = plt.subplots(nrows=nrows, ncols=ncols, figsize=(ncols, nrows))\n",
        "    for i, ax in enumerate(axes.flat):\n",
        "        if i < n:\n",
        "            ax.imshow(patches[:,i,:,:].permute(1, 2, 0))  # Convert tensor back to image format\n",
        "            ax.axis('off')\n",
        "        else:\n",
        "            ax.axis('off')\n",
        "    plt.subplots_adjust(wspace=0.05, hspace=0.05)\n",
        "    fig.suptitle(f\"Label: {label}\", fontsize=30)\n",
        "idx = 26\n",
        "plot_patches(images[idx], labels[label[idx].item()], 4)"
      ],
      "metadata": {
        "colab": {
          "base_uri": "https://localhost:8080/",
          "height": 668
        },
        "id": "aB_LSfJ71S6U",
        "outputId": "21ca9aee-a398-470f-85ba-4fb4554b8a86"
      },
      "execution_count": 12,
      "outputs": [
        {
          "output_type": "stream",
          "name": "stderr",
          "text": [
            "WARNING:matplotlib.image:Clipping input data to the valid range for imshow with RGB data ([0..1] for floats or [0..255] for integers).\n",
            "WARNING:matplotlib.image:Clipping input data to the valid range for imshow with RGB data ([0..1] for floats or [0..255] for integers).\n",
            "WARNING:matplotlib.image:Clipping input data to the valid range for imshow with RGB data ([0..1] for floats or [0..255] for integers).\n",
            "WARNING:matplotlib.image:Clipping input data to the valid range for imshow with RGB data ([0..1] for floats or [0..255] for integers).\n",
            "WARNING:matplotlib.image:Clipping input data to the valid range for imshow with RGB data ([0..1] for floats or [0..255] for integers).\n",
            "WARNING:matplotlib.image:Clipping input data to the valid range for imshow with RGB data ([0..1] for floats or [0..255] for integers).\n",
            "WARNING:matplotlib.image:Clipping input data to the valid range for imshow with RGB data ([0..1] for floats or [0..255] for integers).\n",
            "WARNING:matplotlib.image:Clipping input data to the valid range for imshow with RGB data ([0..1] for floats or [0..255] for integers).\n",
            "WARNING:matplotlib.image:Clipping input data to the valid range for imshow with RGB data ([0..1] for floats or [0..255] for integers).\n",
            "WARNING:matplotlib.image:Clipping input data to the valid range for imshow with RGB data ([0..1] for floats or [0..255] for integers).\n",
            "WARNING:matplotlib.image:Clipping input data to the valid range for imshow with RGB data ([0..1] for floats or [0..255] for integers).\n",
            "WARNING:matplotlib.image:Clipping input data to the valid range for imshow with RGB data ([0..1] for floats or [0..255] for integers).\n",
            "WARNING:matplotlib.image:Clipping input data to the valid range for imshow with RGB data ([0..1] for floats or [0..255] for integers).\n",
            "WARNING:matplotlib.image:Clipping input data to the valid range for imshow with RGB data ([0..1] for floats or [0..255] for integers).\n",
            "WARNING:matplotlib.image:Clipping input data to the valid range for imshow with RGB data ([0..1] for floats or [0..255] for integers).\n"
          ]
        },
        {
          "output_type": "display_data",
          "data": {
            "text/plain": [
              "<Figure size 400x400 with 16 Axes>"
            ],
            "image/png": "[encoded data removed]"
          },
          "metadata": {}
        }
      ]
    },
    {
      "cell_type": "code",
      "source": [],
      "metadata": {
        "id": "5JoBNrpWI8oi"
      },
      "execution_count": 12,
      "outputs": []
    },
    {
      "cell_type": "markdown",
      "source": [
        "## Vision Transformer Model"
      ],
      "metadata": {
        "id": "ycVIqANlIIlV"
      }
    },
    {
      "cell_type": "code",
      "source": [
        "class EmbedLayer(nn.Module):\n",
        "    def __init__(self, image_dim):\n",
        "        super().__init__()\n",
        "        self.flatten = nn.Flatten(start_dim=2)\n",
        "        self.cls_token = nn.Parameter(torch.zeros(1, 1, image_dim), requires_grad=True)  # Cls Token\n",
        "        self.pos_embedding = nn.Parameter(torch.zeros(1, 1, image_dim, requires_grad=True))  # Positional Embedding\n",
        "\n",
        "    def forward(self, x):\n",
        "        x = x.permute(0, 2, 3, 4, 1)\n",
        "        x = self.flatten(x) # Flattening Patches\n",
        "        x = torch.cat((torch.repeat_interleave(self.cls_token, x.shape[0], 0), x), dim=1)  # Adding classification token at the start of every sequence\n",
        "        x = x + self.pos_embedding  # Adding positional embedding\n",
        "        return x\n",
        "\n",
        "class EmbedLayerWithConv(nn.Module):\n",
        "    def __init__(self, image_size, embed_dim, n_channels=3, patch_size=8):\n",
        "        super().__init__()\n",
        "        self.conv1 = nn.Conv2d(n_channels, embed_dim, kernel_size=patch_size, stride=patch_size)  # Pixel Encoding\n",
        "        self.cls_token = nn.Parameter(torch.zeros(1, 1, embed_dim), requires_grad=True)  # Cls Token\n",
        "        self.pos_embedding = nn.Parameter(torch.zeros(1, (image_size // patch_size) ** 2 + 1, embed_dim), requires_grad=True)  # Positional Embedding\n",
        "\n",
        "    def forward(self, x):\n",
        "        x = self.conv1(x)  # B C IH IW -> B E IH/P IW/P (Embedding the patches)\n",
        "        x = x.reshape([x.shape[0], x.shape[1], -1])  # B E IH/P IW/P -> B E S (Flattening the patches)\n",
        "        x = x.transpose(1, 2)  # B E S -> B S E\n",
        "        x = torch.cat((torch.repeat_interleave(self.cls_token, x.shape[0], 0), x), dim=1)  # Adding classification token at the start of every sequence\n",
        "        x = x + self.pos_embedding  # Adding positional embedding\n",
        "        return x\n"
      ],
      "metadata": {
        "id": "P1WYPPkQ-Y4A"
      },
      "execution_count": 31,
      "outputs": []
    },
    {
      "cell_type": "code",
      "source": [
        "class Classifier(nn.Module):\n",
        "    def __init__(self, embed_dim, mlp_size, n_classes):\n",
        "        super().__init__()\n",
        "        # Newer architectures skip fc1 and activations and directly apply fc2.\n",
        "        self.fc1 = nn.Linear(embed_dim, mlp_size)\n",
        "        self.activation = nn.ReLU()\n",
        "        self.fc2 = nn.Linear(mlp_size, n_classes)\n",
        "\n",
        "    def forward(self, x):\n",
        "        x = x[:, 0, :]  # Get CLS token\n",
        "        x = self.fc1(x)\n",
        "        x = self.activation(x)\n",
        "        x = self.fc2(x)\n",
        "        return x"
      ],
      "metadata": {
        "id": "dHZMZKhRKZ-l"
      },
      "execution_count": 32,
      "outputs": []
    },
    {
      "cell_type": "code",
      "source": [
        "class VisionTransformer(nn.Module):\n",
        "    def __init__(self, image_dim, embed_dim, mlp_size, n_layers, n_attention_heads, n_classes):\n",
        "        super().__init__()\n",
        "        self.embedding = EmbedLayer(image_dim, embed_dim)\n",
        "        self.linear = nn.Linear(embed_dim, embed_dim)\n",
        "        self.encoder_layer = nn.TransformerEncoderLayer(d_model=embed_dim, nhead=n_attention_heads, batch_first=True)\n",
        "        self.transformer_encoder = nn.TransformerEncoder(self.encoder_layer, num_layers=n_layers, norm=nn.LayerNorm(embed_dim))\n",
        "        self.classifier = Classifier(embed_dim, mlp_size, n_classes)\n",
        "\n",
        "    def forward(self, x):\n",
        "        x = self.embedding(x)\n",
        "        x = self.linear(x)\n",
        "        x = self.transformer_encoder(x)\n",
        "        x = self.classifier(x)\n",
        "        return x\n",
        "\n",
        "class VisionTransformer(nn.Module):\n",
        "    def __init__(self, image_dim, embed_dim, mlp_size, n_layers, n_attention_heads, n_classes):\n",
        "        super().__init__()\n",
        "        self.embedding = EmbedLayerWithConv(image_dim, embed_dim)\n",
        "        self.linear = nn.Linear(embed_dim, embed_dim)\n",
        "        self.encoder_layer = nn.TransformerEncoderLayer(d_model=embed_dim, nhead=n_attention_heads, batch_first=True)\n",
        "        self.transformer_encoder = nn.TransformerEncoder(self.encoder_layer, num_layers=n_layers, norm=nn.LayerNorm(embed_dim))\n",
        "        self.classifier = Classifier(embed_dim, mlp_size, n_classes)\n",
        "\n",
        "    def forward(self, x):\n",
        "        x = self.embedding(x)\n",
        "        x = self.linear(x)\n",
        "        x = self.transformer_encoder(x)\n",
        "        x = self.classifier(x)\n",
        "        return x"
      ],
      "metadata": {
        "id": "ToGFrUoYKyXM"
      },
      "execution_count": 33,
      "outputs": []
    },
    {
      "cell_type": "code",
      "source": [
        "ViT = VisionTransformer(image_dim=32, embed_dim=144, mlp_size=3072,\n",
        "                        n_layers=4, n_attention_heads=12,\n",
        "                        n_classes=10)"
      ],
      "metadata": {
        "id": "l9asKUwQLaf0"
      },
      "execution_count": 46,
      "outputs": []
    },
    {
      "cell_type": "code",
      "source": [
        "out = ViT(images)"
      ],
      "metadata": {
        "id": "k6W9uI7iL6SA"
      },
      "execution_count": 47,
      "outputs": []
    },
    {
      "cell_type": "code",
      "source": [
        "ViT.embedding(images).shape"
      ],
      "metadata": {
        "colab": {
          "base_uri": "https://localhost:8080/"
        },
        "id": "VFp3sb1t8IO7",
        "outputId": "6dcb1e8a-19a2-4e1c-e7a8-00d2a6a96e06"
      },
      "execution_count": 48,
      "outputs": [
        {
          "output_type": "execute_result",
          "data": {
            "text/plain": [
              "torch.Size([128, 17, 144])"
            ]
          },
          "metadata": {},
          "execution_count": 48
        }
      ]
    },
    {
      "cell_type": "code",
      "source": [
        "ViT.linear(ViT.embedding(images)).shape"
      ],
      "metadata": {
        "colab": {
          "base_uri": "https://localhost:8080/"
        },
        "id": "f3w1VKwO6E8B",
        "outputId": "1b89f0d6-76a3-4f4e-f699-9db96004f421"
      },
      "execution_count": 49,
      "outputs": [
        {
          "output_type": "execute_result",
          "data": {
            "text/plain": [
              "torch.Size([128, 17, 144])"
            ]
          },
          "metadata": {},
          "execution_count": 49
        }
      ]
    },
    {
      "cell_type": "code",
      "source": [
        "out.shape"
      ],
      "metadata": {
        "colab": {
          "base_uri": "https://localhost:8080/"
        },
        "id": "c6ke5Ex9L_fK",
        "outputId": "8b5f654f-fa44-4079-ad79-dd60bbe5ceb3"
      },
      "execution_count": 50,
      "outputs": [
        {
          "output_type": "execute_result",
          "data": {
            "text/plain": [
              "torch.Size([128, 10])"
            ]
          },
          "metadata": {},
          "execution_count": 50
        }
      ]
    },
    {
      "cell_type": "code",
      "source": [
        "class ViT_Trainer:\n",
        "  def __init__(self, train_dataset, test_dataset, device):\n",
        "    self.device = device\n",
        "    # self.model = VisionTransformer(image_dim=8*8*3, embed_dim=256, mlp_size=3072,\n",
        "    #                     n_layers=2, n_attention_heads=8,\n",
        "    #                     n_classes=10)\n",
        "    self.model = ViT = VisionTransformer(image_dim=32, embed_dim=288, mlp_size=3072,\n",
        "                        n_layers=4, n_attention_heads=12,\n",
        "                        n_classes=10)\n",
        "    def count_parameters(model):\n",
        "      return sum(p.numel() for p in model.parameters() if p.requires_grad)\n",
        "\n",
        "    total_params = count_parameters(self.model)\n",
        "    print(f\"Total parameters in the model: {total_params/1e6}M\")\n",
        "    self.model = self.model.to(self.device)\n",
        "\n",
        "    self.optimizer = optim.AdamW(self.model.parameters(), lr=5e-4, weight_decay=1e-3)\n",
        "    self.warm_up_epochs = 10\n",
        "    self.linear_warmup = optim.lr_scheduler.LinearLR(self.optimizer, start_factor=1/self.warm_up_epochs, end_factor=1.0, total_iters=self.warm_up_epochs, last_epoch=-1, verbose=True)\n",
        "    self.cos_decay = optim.lr_scheduler.CosineAnnealingLR(optimizer=self.optimizer, T_max=50-self.warm_up_epochs, eta_min=1e-5, verbose=True)\n",
        "\n",
        "    self.ce = nn.CrossEntropyLoss()\n",
        "    self.train_dataset = train_dataset\n",
        "    self.test_dataset = test_dataset\n",
        "\n",
        "  def train(self, epochs):\n",
        "    for epoch in range(epochs):\n",
        "      self.model.train()\n",
        "      for batch_idx, (images, labels) in enumerate(self.train_dataset):\n",
        "        images = images.to(self.device)\n",
        "        labels = labels.to(self.device)\n",
        "\n",
        "        self.optimizer.zero_grad()\n",
        "        outputs = self.model(images)\n",
        "        loss = self.ce(outputs, labels)\n",
        "        loss.backward()\n",
        "        self.optimizer.step()\n",
        "\n",
        "      if epoch < self.warm_up_epochs:\n",
        "        self.linear_warmup.step()\n",
        "      else:\n",
        "        self.cos_decay.step()\n",
        "\n",
        "      # if batch_idx % 50 == 0:\n",
        "      #   print(f\"Epoch {epoch+1}/{epochs}, Batch {batch_idx+1}/{len(self.train_dataset)}, Loss: {loss.item():.4f}\")\n",
        "\n",
        "      accuracy = self.test(self.test_dataset)\n",
        "      print(f\"Epoch {epoch+1}/{epochs}, Accuracy: {accuracy:.4f}\")\n",
        "\n",
        "  def test(self, loader):\n",
        "        self.model.eval()\n",
        "\n",
        "        actual = []\n",
        "        pred = []\n",
        "\n",
        "        for (x, y) in loader:\n",
        "            x = x.to(self.device)\n",
        "\n",
        "            with torch.no_grad():\n",
        "                logits = self.model(x)\n",
        "            predicted = torch.max(logits, 1)[1]\n",
        "\n",
        "            actual += y.tolist()\n",
        "            pred += predicted.tolist()\n",
        "\n",
        "        acc = accuracy_score(y_true=actual, y_pred=pred)\n",
        "        return acc"
      ],
      "metadata": {
        "id": "n1r74enWM32T"
      },
      "execution_count": 54,
      "outputs": []
    },
    {
      "cell_type": "code",
      "source": [
        "trainer = ViT_Trainer(train_dataloader, test_dataloader, device)"
      ],
      "metadata": {
        "colab": {
          "base_uri": "https://localhost:8080/"
        },
        "id": "gzdyL6DqQD2c",
        "outputId": "c4f0fedf-3614-44ef-e23e-9dc2af6038aa"
      },
      "execution_count": 55,
      "outputs": [
        {
          "output_type": "stream",
          "name": "stdout",
          "text": [
            "Total parameters in the model: 8.643434M\n"
          ]
        },
        {
          "output_type": "stream",
          "name": "stderr",
          "text": [
            "/usr/local/lib/python3.10/dist-packages/torch/optim/lr_scheduler.py:28: UserWarning: The verbose parameter is deprecated. Please use get_last_lr() to access the learning rate.\n",
            "  warnings.warn(\"The verbose parameter is deprecated. Please use get_last_lr() \"\n"
          ]
        }
      ]
    },
    {
      "cell_type": "code",
      "source": [
        "trainer.train(50)"
      ],
      "metadata": {
        "colab": {
          "base_uri": "https://localhost:8080/"
        },
        "id": "TMFJku6MqlcX",
        "outputId": "0ad0169d-f2ad-4426-c774-6772146190fa"
      },
      "execution_count": 56,
      "outputs": [
        {
          "output_type": "stream",
          "name": "stdout",
          "text": [
            "Epoch 1/50, Accuracy: 0.4116\n",
            "Epoch 2/50, Accuracy: 0.4881\n",
            "Epoch 3/50, Accuracy: 0.5313\n",
            "Epoch 4/50, Accuracy: 0.5691\n",
            "Epoch 5/50, Accuracy: 0.5765\n",
            "Epoch 6/50, Accuracy: 0.6008\n",
            "Epoch 7/50, Accuracy: 0.6162\n",
            "Epoch 8/50, Accuracy: 0.6234\n",
            "Epoch 9/50, Accuracy: 0.6291\n",
            "Epoch 10/50, Accuracy: 0.6255\n",
            "Epoch 11/50, Accuracy: 0.6320\n",
            "Epoch 12/50, Accuracy: 0.6519\n",
            "Epoch 13/50, Accuracy: 0.6461\n",
            "Epoch 14/50, Accuracy: 0.6524\n",
            "Epoch 15/50, Accuracy: 0.6583\n",
            "Epoch 16/50, Accuracy: 0.6597\n",
            "Epoch 17/50, Accuracy: 0.6588\n",
            "Epoch 18/50, Accuracy: 0.6617\n",
            "Epoch 19/50, Accuracy: 0.6634\n",
            "Epoch 20/50, Accuracy: 0.6630\n",
            "Epoch 21/50, Accuracy: 0.6701\n",
            "Epoch 22/50, Accuracy: 0.6791\n",
            "Epoch 23/50, Accuracy: 0.6763\n",
            "Epoch 24/50, Accuracy: 0.6838\n",
            "Epoch 25/50, Accuracy: 0.6735\n",
            "Epoch 26/50, Accuracy: 0.6789\n",
            "Epoch 27/50, Accuracy: 0.6888\n",
            "Epoch 28/50, Accuracy: 0.6877\n",
            "Epoch 29/50, Accuracy: 0.6870\n",
            "Epoch 30/50, Accuracy: 0.6884\n",
            "Epoch 31/50, Accuracy: 0.6885\n",
            "Epoch 32/50, Accuracy: 0.6927\n",
            "Epoch 33/50, Accuracy: 0.6923\n",
            "Epoch 34/50, Accuracy: 0.6975\n",
            "Epoch 35/50, Accuracy: 0.6970\n",
            "Epoch 36/50, Accuracy: 0.6949\n",
            "Epoch 37/50, Accuracy: 0.7042\n",
            "Epoch 38/50, Accuracy: 0.7047\n",
            "Epoch 39/50, Accuracy: 0.7051\n",
            "Epoch 40/50, Accuracy: 0.7077\n",
            "Epoch 41/50, Accuracy: 0.7083\n",
            "Epoch 42/50, Accuracy: 0.7073\n",
            "Epoch 43/50, Accuracy: 0.7152\n",
            "Epoch 44/50, Accuracy: 0.7141\n",
            "Epoch 45/50, Accuracy: 0.7109\n",
            "Epoch 46/50, Accuracy: 0.7123\n",
            "Epoch 47/50, Accuracy: 0.7118\n",
            "Epoch 48/50, Accuracy: 0.7157\n",
            "Epoch 49/50, Accuracy: 0.7170\n",
            "Epoch 50/50, Accuracy: 0.7156\n"
          ]
        }
      ]
    },
    {
      "cell_type": "code",
      "source": [
        "trainer.train(10)"
      ],
      "metadata": {
        "id": "oo2o5vEm5E_r",
        "colab": {
          "base_uri": "https://localhost:8080/"
        },
        "outputId": "e3a49e3d-0c15-41c6-f21d-c14c88bdd142"
      },
      "execution_count": 57,
      "outputs": [
        {
          "output_type": "stream",
          "name": "stdout",
          "text": [
            "Epoch 1/10, Accuracy: 0.7149\n",
            "Epoch 2/10, Accuracy: 0.7156\n",
            "Epoch 3/10, Accuracy: 0.7173\n",
            "Epoch 4/10, Accuracy: 0.7139\n",
            "Epoch 5/10, Accuracy: 0.7161\n",
            "Epoch 6/10, Accuracy: 0.7149\n",
            "Epoch 7/10, Accuracy: 0.7158\n",
            "Epoch 8/10, Accuracy: 0.7175\n",
            "Epoch 9/10, Accuracy: 0.7166\n",
            "Epoch 10/10, Accuracy: 0.7164\n"
          ]
        }
      ]
    },
    {
      "cell_type": "code",
      "source": [],
      "metadata": {
        "id": "P9a70R0tDIWw"
      },
      "execution_count": null,
      "outputs": []
    }
  ]
}