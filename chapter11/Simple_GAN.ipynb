{
  "nbformat": 4,
  "nbformat_minor": 0,
  "metadata": {
    "colab": {
      "provenance": [],
      "machine_shape": "hm",
      "gpuType": "V100"
    },
    "kernelspec": {
      "name": "python3",
      "display_name": "Python 3"
    },
    "language_info": {
      "name": "python"
    },
    "accelerator": "GPU"
  },
  "cells": [
    {
      "cell_type": "markdown",
      "source": [
        "# Training a Simple GAN with PyTorch\n",
        "- GAN for Generating simple MNIST Images\n",
        "- Good to have a GPU for faster training"
      ],
      "metadata": {
        "id": "r2dfGLNrTmHv"
      }
    },
    {
      "cell_type": "code",
      "execution_count": 1,
      "metadata": {
        "id": "4YxqP7LbiUrv"
      },
      "outputs": [],
      "source": [
        "# Torch Imports\n",
        "import torch\n",
        "import torch.nn as nn\n",
        "import torch.optim as optim\n",
        "import torch.nn.functional as F\n",
        "\n",
        "# Torchvision Imports\n",
        "from torchvision import datasets, transforms\n",
        "from torchvision.utils import save_image\n",
        "\n",
        "# Device configuration; Good to have a GPU for GAN Training\n",
        "device = torch.device('cuda' if torch.cuda.is_available() else 'cpu')"
      ]
    },
    {
      "cell_type": "code",
      "source": [
        "device"
      ],
      "metadata": {
        "colab": {
          "base_uri": "https://localhost:8080/"
        },
        "id": "K5f7nyCDieqA",
        "outputId": "3b24d06e-f257-4952-9275-58535b9fa06f"
      },
      "execution_count": 2,
      "outputs": [
        {
          "output_type": "execute_result",
          "data": {
            "text/plain": [
              "device(type='cuda')"
            ]
          },
          "metadata": {},
          "execution_count": 2
        }
      ]
    },
    {
      "cell_type": "markdown",
      "source": [
        "# Generator Network\n",
        "- 4 Fully Connected Layers\n",
        "- Output Dimension will be same as 28*28"
      ],
      "metadata": {
        "id": "SbdcNZOHTUgM"
      }
    },
    {
      "cell_type": "code",
      "source": [
        "class Generator(nn.Module):\n",
        "    def __init__(self, g_input_dim, g_output_dim):\n",
        "        super(Generator, self).__init__()\n",
        "        self.fc1 = nn.Linear(g_input_dim, 256)\n",
        "        self.fc2 = nn.Linear(256, 512)\n",
        "        self.fc3 = nn.Linear(512, 1024)\n",
        "        self.fc4 = nn.Linear(1024, g_output_dim)\n",
        "\n",
        "\n",
        "    # forward method\n",
        "    def forward(self, x):\n",
        "        x = F.leaky_relu(self.fc1(x), negative_slope=0.2)\n",
        "        x = F.leaky_relu(self.fc2(x), negative_slope=0.2)\n",
        "        x = F.leaky_relu(self.fc3(x), negative_slope=0.2)\n",
        "        return torch.tanh(self.fc4(x))\n"
      ],
      "metadata": {
        "id": "lYTu38GFik4Z"
      },
      "execution_count": 16,
      "outputs": []
    },
    {
      "cell_type": "markdown",
      "source": [
        "# Discriminator Network\n",
        "- 4 Fully Connected Layers\n",
        "- Output is a Single Neuron, 1=Real Image, 0=Fake Image"
      ],
      "metadata": {
        "id": "G-JIxeU0TcyI"
      }
    },
    {
      "cell_type": "code",
      "source": [
        "class Discriminator(nn.Module):\n",
        "    def __init__(self, d_input_dim):\n",
        "        super(Discriminator, self).__init__()\n",
        "        self.fc1 = nn.Linear(d_input_dim, 1024)\n",
        "        self.fc2 = nn.Linear(1024, 512)\n",
        "        self.fc3 = nn.Linear(512, 256)\n",
        "        self.fc4 = nn.Linear(256, 1)\n",
        "\n",
        "    # forward method\n",
        "    def forward(self, x):\n",
        "        x = F.leaky_relu(self.fc1(x), negative_slope=0.2)\n",
        "        x = F.dropout(x, p=0.3)\n",
        "        x = F.leaky_relu(self.fc2(x), negative_slope=0.2)\n",
        "        x = F.dropout(x, p=0.3)\n",
        "        x = F.leaky_relu(self.fc3(x), negative_slope=0.2)\n",
        "        x = F.dropout(x, p=0.3)\n",
        "        return torch.sigmoid(self.fc4(x))\n"
      ],
      "metadata": {
        "id": "Is-ZNi1tio-_"
      },
      "execution_count": 4,
      "outputs": []
    },
    {
      "cell_type": "markdown",
      "source": [
        "# Instantiating Models\n",
        "- Using a random noise of 100 dimensions\n",
        "- Using BCE Loss for Training\n",
        "- Using Adam Optimizer for Training"
      ],
      "metadata": {
        "id": "nvYTEfyMTJKV"
      }
    },
    {
      "cell_type": "code",
      "source": [
        "# Models\n",
        "z_dim = 100 # Dimension of the Input Noise to the Generator\n",
        "mnist_dim = 28 * 28 # As we have 28x28 pixel images in MNIST\n",
        "G = Generator(g_input_dim = z_dim, g_output_dim = mnist_dim).to(device)\n",
        "D = Discriminator(mnist_dim).to(device)\n",
        "\n",
        "# loss\n",
        "criterion = nn.BCELoss()\n",
        "\n",
        "# optimizer\n",
        "lr = 0.0002\n",
        "G_optimizer = optim.Adam(G.parameters(), lr = lr)\n",
        "D_optimizer = optim.Adam(D.parameters(), lr = lr)"
      ],
      "metadata": {
        "id": "RWhtpwPvi1Gw"
      },
      "execution_count": 32,
      "outputs": []
    },
    {
      "cell_type": "markdown",
      "source": [
        "# Loading & Normalizing MNIST Dataset"
      ],
      "metadata": {
        "id": "MQD5--pkTCwi"
      }
    },
    {
      "cell_type": "code",
      "source": [
        "# Batch Size for Training\n",
        "batch_size = 100\n",
        "\n",
        "# Transforming Images to Tensor and then Normalizing the values to be between 0 and 1, with mean 0.5 and std 0.5\n",
        "transform = transforms.Compose([\n",
        "    transforms.ToTensor(),\n",
        "    transforms.Normalize(mean=(0.5,), std=(0.5,))])\n",
        "\n",
        "# Loading the Training Dataset and applying Transformation\n",
        "train_dataset = datasets.MNIST(root='./mnist/', train=True, transform=transform, download=True)\n",
        "test_dataset = datasets.MNIST(root='./mnist/', train=False, transform=transform, download=False)\n",
        "\n",
        "# Data Loader which will be used as input to the models.\n",
        "train_loader = torch.utils.data.DataLoader(dataset=train_dataset, batch_size=batch_size, shuffle=True)\n",
        "test_loader = torch.utils.data.DataLoader(dataset=test_dataset, batch_size=batch_size, shuffle=False)\n"
      ],
      "metadata": {
        "id": "Mi4nn196i4bi"
      },
      "execution_count": 33,
      "outputs": []
    },
    {
      "cell_type": "markdown",
      "source": [
        "# Method for Training Discriminator"
      ],
      "metadata": {
        "id": "uG5014WuTANh"
      }
    },
    {
      "cell_type": "code",
      "source": [
        "def train_discriminator(mnist_data_batch):\n",
        "    #===================Discriminator-Trainer===================#\n",
        "    D.zero_grad()\n",
        "\n",
        "    # train discriminator on real\n",
        "    x_real, y_real = mnist_data_batch.view(-1, mnist_dim), torch.ones(batch_size, 1)\n",
        "    x_real, y_real = x_real.to(device), y_real.to(device)\n",
        "\n",
        "    # Loss for Real MNIST Data\n",
        "    D_output = D(x_real)\n",
        "    D_real_loss = criterion(D_output, y_real)\n",
        "\n",
        "    # Generate Data from Generator Network for Training\n",
        "    z = torch.randn(batch_size, z_dim).to(device) # Random Noise as Input to G\n",
        "    x_fake, y_fake = G(z), torch.zeros(batch_size, 1).to(device)\n",
        "\n",
        "    # Loss for Fake Data from Generator\n",
        "    D_output = D(x_fake)\n",
        "    D_fake_loss = criterion(D_output, y_fake)\n",
        "\n",
        "    # Updating only D's weights, so training on D on total loss\n",
        "    D_loss = D_real_loss + D_fake_loss\n",
        "    D_loss.backward()\n",
        "    D_optimizer.step()\n",
        "\n",
        "    return  D_loss.data.item()\n"
      ],
      "metadata": {
        "id": "RZkoCFbQi8Et"
      },
      "execution_count": 34,
      "outputs": []
    },
    {
      "cell_type": "markdown",
      "source": [
        "# Method for Training Generator"
      ],
      "metadata": {
        "id": "svYCG8BRS8Go"
      }
    },
    {
      "cell_type": "code",
      "source": [
        "def train_generator():\n",
        "    #=======================Generator-Trainer=======================#\n",
        "    G.zero_grad()\n",
        "\n",
        "    # Generate Random Noise to use as Input to the Generator\n",
        "    z = torch.randn(batch_size, z_dim).to(device)\n",
        "    # The final label in this case in 1(True), i.e the Discriminator Model\n",
        "    # Thinks these are real images therefore the losses for Generator\n",
        "    # Network should update the weights of G in such a way that it produces more\n",
        "    # Real looking images.\n",
        "    y = torch.ones(batch_size, 1).to(device)\n",
        "\n",
        "    # Generate Images\n",
        "    G_output = G(z)\n",
        "    # Get output from Discriminator for the Generated Images\n",
        "    D_output = D(G_output)\n",
        "    # Compute Loss\n",
        "    G_loss = criterion(D_output, y)\n",
        "\n",
        "    # Updating only G's weights\n",
        "    G_loss.backward()\n",
        "    G_optimizer.step()\n",
        "\n",
        "    return G_loss.data.item()"
      ],
      "metadata": {
        "id": "5_ZOsm6zjAj5"
      },
      "execution_count": 36,
      "outputs": []
    },
    {
      "cell_type": "markdown",
      "source": [
        "# Main Training Loop"
      ],
      "metadata": {
        "id": "M0zmaw4MS6bP"
      }
    },
    {
      "cell_type": "code",
      "source": [
        "# Total number of epochs for Training\n",
        "n_epoch = 200\n",
        "\n",
        "losses = []\n",
        "\n",
        "for epoch in range(n_epoch):\n",
        "    D_losses, G_losses = [], []\n",
        "    # For Every Batch in the MNIST dataset\n",
        "    # We train the Discriminator First, then the Generator\n",
        "    for batch_idx, (mnist_input_data, _) in enumerate(train_loader):\n",
        "        D_losses.append(train_discriminator(mnist_input_data))\n",
        "        G_losses.append(train_generator())\n",
        "\n",
        "    if epoch % 20 == 0:\n",
        "        test_z = torch.randn(8, z_dim).to(device)\n",
        "        generated = G(test_z)\n",
        "        save_image(generated.view(generated.size(0), 1, 28, 28), f'./track/sample_images_{epoch}' + '.png')\n",
        "\n",
        "    # Logging the Loss values from Discriminator and Generator\n",
        "    loss_d = torch.mean(torch.FloatTensor(D_losses))\n",
        "    loss_g = torch.mean(torch.FloatTensor(G_losses))\n",
        "    losses.append((loss_d, loss_g))\n",
        "    print(f'[{epoch}/{n_epoch}]: loss_d: {loss_d}, loss_g: {loss_g}')"
      ],
      "metadata": {
        "colab": {
          "base_uri": "https://localhost:8080/"
        },
        "id": "BNEl9XfflU21",
        "outputId": "e038415d-69a0-4c71-a96b-2c0a3a1435d6"
      },
      "execution_count": 37,
      "outputs": [
        {
          "output_type": "stream",
          "name": "stdout",
          "text": [
            "[0/200]: loss_d: 0.9146503806114197, loss_g: 3.433616876602173\n",
            "[1/200]: loss_d: 0.8558991551399231, loss_g: 2.061593770980835\n",
            "[2/200]: loss_d: 0.6198763847351074, loss_g: 2.513192653656006\n",
            "[3/200]: loss_d: 0.3702886402606964, loss_g: 3.6631579399108887\n",
            "[4/200]: loss_d: 0.5312609672546387, loss_g: 2.9285387992858887\n",
            "[5/200]: loss_d: 0.5179638862609863, loss_g: 2.810464382171631\n",
            "[6/200]: loss_d: 0.5118756294250488, loss_g: 2.9796879291534424\n",
            "[7/200]: loss_d: 0.5017836689949036, loss_g: 2.8963441848754883\n",
            "[8/200]: loss_d: 0.5901499390602112, loss_g: 2.594468593597412\n",
            "[9/200]: loss_d: 0.6117517352104187, loss_g: 2.4745798110961914\n",
            "[10/200]: loss_d: 0.6969274282455444, loss_g: 2.2004780769348145\n",
            "[11/200]: loss_d: 0.6853969097137451, loss_g: 2.2216601371765137\n",
            "[12/200]: loss_d: 0.7037848830223083, loss_g: 2.2637710571289062\n",
            "[13/200]: loss_d: 0.7232202887535095, loss_g: 2.162294626235962\n",
            "[14/200]: loss_d: 0.7595869898796082, loss_g: 2.0215725898742676\n",
            "[15/200]: loss_d: 0.7712383270263672, loss_g: 1.9766045808792114\n",
            "[16/200]: loss_d: 0.8085837960243225, loss_g: 1.85626220703125\n",
            "[17/200]: loss_d: 0.837213397026062, loss_g: 1.8099002838134766\n",
            "[18/200]: loss_d: 0.8904352784156799, loss_g: 1.7036441564559937\n",
            "[19/200]: loss_d: 0.8592150807380676, loss_g: 1.7528222799301147\n",
            "[20/200]: loss_d: 0.8987336158752441, loss_g: 1.6452113389968872\n",
            "[21/200]: loss_d: 0.8998264670372009, loss_g: 1.6009377241134644\n",
            "[22/200]: loss_d: 0.9233296513557434, loss_g: 1.5625874996185303\n",
            "[23/200]: loss_d: 0.9197718501091003, loss_g: 1.5865978002548218\n",
            "[24/200]: loss_d: 0.9444578886032104, loss_g: 1.5404311418533325\n",
            "[25/200]: loss_d: 0.9654837250709534, loss_g: 1.5033046007156372\n",
            "[26/200]: loss_d: 0.9553127884864807, loss_g: 1.5127971172332764\n",
            "[27/200]: loss_d: 0.9702818989753723, loss_g: 1.4781250953674316\n",
            "[28/200]: loss_d: 1.0083098411560059, loss_g: 1.3991708755493164\n",
            "[29/200]: loss_d: 1.0244539976119995, loss_g: 1.3516300916671753\n",
            "[30/200]: loss_d: 1.0293200016021729, loss_g: 1.3389872312545776\n",
            "[31/200]: loss_d: 1.042341947555542, loss_g: 1.3259069919586182\n",
            "[32/200]: loss_d: 1.045912504196167, loss_g: 1.3174084424972534\n",
            "[33/200]: loss_d: 1.0737347602844238, loss_g: 1.257028579711914\n",
            "[34/200]: loss_d: 1.0486377477645874, loss_g: 1.3140242099761963\n",
            "[35/200]: loss_d: 1.0672743320465088, loss_g: 1.2811315059661865\n",
            "[36/200]: loss_d: 1.0761812925338745, loss_g: 1.2534252405166626\n",
            "[37/200]: loss_d: 1.0945074558258057, loss_g: 1.2057721614837646\n",
            "[38/200]: loss_d: 1.1129403114318848, loss_g: 1.1947318315505981\n",
            "[39/200]: loss_d: 1.1006089448928833, loss_g: 1.199571132659912\n",
            "[40/200]: loss_d: 1.099735140800476, loss_g: 1.2176586389541626\n",
            "[41/200]: loss_d: 1.1093521118164062, loss_g: 1.1890313625335693\n",
            "[42/200]: loss_d: 1.1368016004562378, loss_g: 1.1294952630996704\n",
            "[43/200]: loss_d: 1.1460973024368286, loss_g: 1.1140971183776855\n",
            "[44/200]: loss_d: 1.166749119758606, loss_g: 1.073487401008606\n",
            "[45/200]: loss_d: 1.1564363241195679, loss_g: 1.104121446609497\n",
            "[46/200]: loss_d: 1.1541786193847656, loss_g: 1.1044166088104248\n",
            "[47/200]: loss_d: 1.1686615943908691, loss_g: 1.0766044855117798\n",
            "[48/200]: loss_d: 1.1527529954910278, loss_g: 1.0990266799926758\n",
            "[49/200]: loss_d: 1.1785969734191895, loss_g: 1.0749015808105469\n",
            "[50/200]: loss_d: 1.1780593395233154, loss_g: 1.0537337064743042\n",
            "[51/200]: loss_d: 1.1735259294509888, loss_g: 1.0590922832489014\n",
            "[52/200]: loss_d: 1.1849842071533203, loss_g: 1.0456005334854126\n",
            "[53/200]: loss_d: 1.1849759817123413, loss_g: 1.0428775548934937\n",
            "[54/200]: loss_d: 1.1675015687942505, loss_g: 1.0833818912506104\n",
            "[55/200]: loss_d: 1.1736633777618408, loss_g: 1.0591089725494385\n",
            "[56/200]: loss_d: 1.1869820356369019, loss_g: 1.045609951019287\n",
            "[57/200]: loss_d: 1.1733564138412476, loss_g: 1.0598241090774536\n",
            "[58/200]: loss_d: 1.197429895401001, loss_g: 1.029147982597351\n",
            "[59/200]: loss_d: 1.1941872835159302, loss_g: 1.0345375537872314\n",
            "[60/200]: loss_d: 1.2007296085357666, loss_g: 1.009073257446289\n",
            "[61/200]: loss_d: 1.2085444927215576, loss_g: 1.0041333436965942\n",
            "[62/200]: loss_d: 1.2089660167694092, loss_g: 1.0030670166015625\n",
            "[63/200]: loss_d: 1.2084110975265503, loss_g: 1.0064218044281006\n",
            "[64/200]: loss_d: 1.208119511604309, loss_g: 1.0273746252059937\n",
            "[65/200]: loss_d: 1.1960703134536743, loss_g: 1.0079784393310547\n",
            "[66/200]: loss_d: 1.209489345550537, loss_g: 0.9980199337005615\n",
            "[67/200]: loss_d: 1.2162903547286987, loss_g: 0.9909312725067139\n",
            "[68/200]: loss_d: 1.2184358835220337, loss_g: 0.9867106080055237\n",
            "[69/200]: loss_d: 1.205161452293396, loss_g: 1.0126489400863647\n",
            "[70/200]: loss_d: 1.2081446647644043, loss_g: 0.9998278617858887\n",
            "[71/200]: loss_d: 1.2215524911880493, loss_g: 0.9867916107177734\n",
            "[72/200]: loss_d: 1.2182668447494507, loss_g: 0.9845251441001892\n",
            "[73/200]: loss_d: 1.2204670906066895, loss_g: 0.971818745136261\n",
            "[74/200]: loss_d: 1.2243229150772095, loss_g: 0.9719354510307312\n",
            "[75/200]: loss_d: 1.2317386865615845, loss_g: 0.9599524140357971\n",
            "[76/200]: loss_d: 1.232664942741394, loss_g: 0.9698901176452637\n",
            "[77/200]: loss_d: 1.2287476062774658, loss_g: 0.9674580097198486\n",
            "[78/200]: loss_d: 1.2301369905471802, loss_g: 0.9663421511650085\n",
            "[79/200]: loss_d: 1.2312263250350952, loss_g: 0.9693248271942139\n",
            "[80/200]: loss_d: 1.2264090776443481, loss_g: 0.968766450881958\n",
            "[81/200]: loss_d: 1.2420271635055542, loss_g: 0.9429576396942139\n",
            "[82/200]: loss_d: 1.2492294311523438, loss_g: 0.9432737231254578\n",
            "[83/200]: loss_d: 1.2386616468429565, loss_g: 0.9605010151863098\n",
            "[84/200]: loss_d: 1.246367335319519, loss_g: 0.9408555030822754\n",
            "[85/200]: loss_d: 1.245644450187683, loss_g: 0.9317128658294678\n",
            "[86/200]: loss_d: 1.2479668855667114, loss_g: 0.9381725788116455\n",
            "[87/200]: loss_d: 1.2530035972595215, loss_g: 0.9324666261672974\n",
            "[88/200]: loss_d: 1.2515255212783813, loss_g: 0.9271997809410095\n",
            "[89/200]: loss_d: 1.2518559694290161, loss_g: 0.9328320026397705\n",
            "[90/200]: loss_d: 1.2611608505249023, loss_g: 0.9260624051094055\n",
            "[91/200]: loss_d: 1.2395923137664795, loss_g: 0.9516741037368774\n",
            "[92/200]: loss_d: 1.24110746383667, loss_g: 0.9470189213752747\n",
            "[93/200]: loss_d: 1.2569069862365723, loss_g: 0.9240012764930725\n",
            "[94/200]: loss_d: 1.2609883546829224, loss_g: 0.9159812331199646\n",
            "[95/200]: loss_d: 1.2582902908325195, loss_g: 0.9302670359611511\n",
            "[96/200]: loss_d: 1.260454535484314, loss_g: 0.9174045920372009\n",
            "[97/200]: loss_d: 1.2542364597320557, loss_g: 0.9428840279579163\n",
            "[98/200]: loss_d: 1.2495557069778442, loss_g: 0.9368179440498352\n",
            "[99/200]: loss_d: 1.2558437585830688, loss_g: 0.9258015751838684\n",
            "[100/200]: loss_d: 1.2525439262390137, loss_g: 0.9339278340339661\n",
            "[101/200]: loss_d: 1.2602195739746094, loss_g: 0.9154782295227051\n",
            "[102/200]: loss_d: 1.255793571472168, loss_g: 0.931077778339386\n",
            "[103/200]: loss_d: 1.2618385553359985, loss_g: 0.9159396290779114\n",
            "[104/200]: loss_d: 1.2630549669265747, loss_g: 0.9149219989776611\n",
            "[105/200]: loss_d: 1.2624537944793701, loss_g: 0.9179642796516418\n",
            "[106/200]: loss_d: 1.267775297164917, loss_g: 0.8985586762428284\n",
            "[107/200]: loss_d: 1.2645678520202637, loss_g: 0.9283223748207092\n",
            "[108/200]: loss_d: 1.2610085010528564, loss_g: 0.9226682782173157\n",
            "[109/200]: loss_d: 1.2663140296936035, loss_g: 0.9063569903373718\n",
            "[110/200]: loss_d: 1.273630142211914, loss_g: 0.8979144096374512\n",
            "[111/200]: loss_d: 1.2664659023284912, loss_g: 0.9054463505744934\n",
            "[112/200]: loss_d: 1.2718747854232788, loss_g: 0.9133636355400085\n",
            "[113/200]: loss_d: 1.2676904201507568, loss_g: 0.9077649116516113\n",
            "[114/200]: loss_d: 1.2680515050888062, loss_g: 0.9117048382759094\n",
            "[115/200]: loss_d: 1.2681797742843628, loss_g: 0.9100083708763123\n",
            "[116/200]: loss_d: 1.270310401916504, loss_g: 0.9009278416633606\n",
            "[117/200]: loss_d: 1.2613310813903809, loss_g: 0.9169690012931824\n",
            "[118/200]: loss_d: 1.2698557376861572, loss_g: 0.8982791900634766\n",
            "[119/200]: loss_d: 1.2698291540145874, loss_g: 0.9035687446594238\n",
            "[120/200]: loss_d: 1.2703474760055542, loss_g: 0.8984969258308411\n",
            "[121/200]: loss_d: 1.2742611169815063, loss_g: 0.8962373733520508\n",
            "[122/200]: loss_d: 1.2671364545822144, loss_g: 0.9069970846176147\n",
            "[123/200]: loss_d: 1.269374132156372, loss_g: 0.9010677933692932\n",
            "[124/200]: loss_d: 1.271445631980896, loss_g: 0.897096574306488\n",
            "[125/200]: loss_d: 1.2649344205856323, loss_g: 0.9063721895217896\n",
            "[126/200]: loss_d: 1.2720450162887573, loss_g: 0.895263671875\n",
            "[127/200]: loss_d: 1.2697710990905762, loss_g: 0.9099048972129822\n",
            "[128/200]: loss_d: 1.276951789855957, loss_g: 0.8932313919067383\n",
            "[129/200]: loss_d: 1.266547441482544, loss_g: 0.9111641645431519\n",
            "[130/200]: loss_d: 1.2685573101043701, loss_g: 0.902113676071167\n",
            "[131/200]: loss_d: 1.2718244791030884, loss_g: 0.9004645943641663\n",
            "[132/200]: loss_d: 1.2733635902404785, loss_g: 0.8937777876853943\n",
            "[133/200]: loss_d: 1.2761744260787964, loss_g: 0.8874789476394653\n",
            "[134/200]: loss_d: 1.2761343717575073, loss_g: 0.8905723094940186\n",
            "[135/200]: loss_d: 1.276907205581665, loss_g: 0.9010087847709656\n",
            "[136/200]: loss_d: 1.2701665163040161, loss_g: 0.9036233425140381\n",
            "[137/200]: loss_d: 1.2736124992370605, loss_g: 0.8909435868263245\n",
            "[138/200]: loss_d: 1.2725528478622437, loss_g: 0.8932768702507019\n",
            "[139/200]: loss_d: 1.2821820974349976, loss_g: 0.8821983933448792\n",
            "[140/200]: loss_d: 1.274263858795166, loss_g: 0.8968163132667542\n",
            "[141/200]: loss_d: 1.2813081741333008, loss_g: 0.8839878439903259\n",
            "[142/200]: loss_d: 1.276004672050476, loss_g: 0.8986204266548157\n",
            "[143/200]: loss_d: 1.274269938468933, loss_g: 0.8952640891075134\n",
            "[144/200]: loss_d: 1.2697181701660156, loss_g: 0.9054497480392456\n",
            "[145/200]: loss_d: 1.2776007652282715, loss_g: 0.8857342600822449\n",
            "[146/200]: loss_d: 1.2696534395217896, loss_g: 0.9099660515785217\n",
            "[147/200]: loss_d: 1.2767419815063477, loss_g: 0.888558030128479\n",
            "[148/200]: loss_d: 1.2743117809295654, loss_g: 0.8906671404838562\n",
            "[149/200]: loss_d: 1.2746714353561401, loss_g: 0.8976309299468994\n",
            "[150/200]: loss_d: 1.2799885272979736, loss_g: 0.8783807158470154\n",
            "[151/200]: loss_d: 1.2887035608291626, loss_g: 0.8788133859634399\n",
            "[152/200]: loss_d: 1.2723112106323242, loss_g: 0.903651237487793\n",
            "[153/200]: loss_d: 1.2760266065597534, loss_g: 0.8942862153053284\n",
            "[154/200]: loss_d: 1.281453013420105, loss_g: 0.8809673190116882\n",
            "[155/200]: loss_d: 1.2781094312667847, loss_g: 0.8911910057067871\n",
            "[156/200]: loss_d: 1.283931851387024, loss_g: 0.8798708319664001\n",
            "[157/200]: loss_d: 1.2800960540771484, loss_g: 0.8877331614494324\n",
            "[158/200]: loss_d: 1.2817497253417969, loss_g: 0.8840455412864685\n",
            "[159/200]: loss_d: 1.280759334564209, loss_g: 0.8850587010383606\n",
            "[160/200]: loss_d: 1.2861912250518799, loss_g: 0.8740025758743286\n",
            "[161/200]: loss_d: 1.2838289737701416, loss_g: 0.8798909783363342\n",
            "[162/200]: loss_d: 1.2833906412124634, loss_g: 0.8743131756782532\n",
            "[163/200]: loss_d: 1.2824714183807373, loss_g: 0.8813195824623108\n",
            "[164/200]: loss_d: 1.2806756496429443, loss_g: 0.8829853534698486\n",
            "[165/200]: loss_d: 1.2853825092315674, loss_g: 0.8746076226234436\n",
            "[166/200]: loss_d: 1.2871708869934082, loss_g: 0.8835866451263428\n",
            "[167/200]: loss_d: 1.2853295803070068, loss_g: 0.8785573244094849\n",
            "[168/200]: loss_d: 1.2804043292999268, loss_g: 0.8843532204627991\n",
            "[169/200]: loss_d: 1.2818779945373535, loss_g: 0.8878957033157349\n",
            "[170/200]: loss_d: 1.2885345220565796, loss_g: 0.878399133682251\n",
            "[171/200]: loss_d: 1.282859444618225, loss_g: 0.8747975826263428\n",
            "[172/200]: loss_d: 1.283128261566162, loss_g: 0.8761637210845947\n",
            "[173/200]: loss_d: 1.2856146097183228, loss_g: 0.8824350833892822\n",
            "[174/200]: loss_d: 1.2828478813171387, loss_g: 0.884412407875061\n",
            "[175/200]: loss_d: 1.2895102500915527, loss_g: 0.8740105032920837\n",
            "[176/200]: loss_d: 1.2806307077407837, loss_g: 0.8810219168663025\n",
            "[177/200]: loss_d: 1.291514277458191, loss_g: 0.8663840889930725\n",
            "[178/200]: loss_d: 1.2821130752563477, loss_g: 0.8888768553733826\n",
            "[179/200]: loss_d: 1.2854242324829102, loss_g: 0.8738650679588318\n",
            "[180/200]: loss_d: 1.2889792919158936, loss_g: 0.8678056001663208\n",
            "[181/200]: loss_d: 1.286665439605713, loss_g: 0.8751707077026367\n",
            "[182/200]: loss_d: 1.2912331819534302, loss_g: 0.871506929397583\n",
            "[183/200]: loss_d: 1.283664584159851, loss_g: 0.8793405890464783\n",
            "[184/200]: loss_d: 1.2867087125778198, loss_g: 0.8779704570770264\n",
            "[185/200]: loss_d: 1.2926558256149292, loss_g: 0.8710943460464478\n",
            "[186/200]: loss_d: 1.2882851362228394, loss_g: 0.8695812225341797\n",
            "[187/200]: loss_d: 1.287506341934204, loss_g: 0.8794741034507751\n",
            "[188/200]: loss_d: 1.2835124731063843, loss_g: 0.8805859088897705\n",
            "[189/200]: loss_d: 1.2889074087142944, loss_g: 0.8751445412635803\n",
            "[190/200]: loss_d: 1.2849284410476685, loss_g: 0.8771499395370483\n",
            "[191/200]: loss_d: 1.2846260070800781, loss_g: 0.8751053810119629\n",
            "[192/200]: loss_d: 1.2809141874313354, loss_g: 0.887861967086792\n",
            "[193/200]: loss_d: 1.2847001552581787, loss_g: 0.8722435235977173\n",
            "[194/200]: loss_d: 1.2857104539871216, loss_g: 0.8672556281089783\n",
            "[195/200]: loss_d: 1.2907683849334717, loss_g: 0.8694820404052734\n",
            "[196/200]: loss_d: 1.2909440994262695, loss_g: 0.8708098530769348\n",
            "[197/200]: loss_d: 1.2913293838500977, loss_g: 0.8724339008331299\n",
            "[198/200]: loss_d: 1.2882252931594849, loss_g: 0.8734105229377747\n",
            "[199/200]: loss_d: 1.2826027870178223, loss_g: 0.8834955096244812\n"
          ]
        }
      ]
    },
    {
      "cell_type": "markdown",
      "source": [
        "# Generating Images from our Trained Generator Network"
      ],
      "metadata": {
        "id": "-7judlTOS247"
      }
    },
    {
      "cell_type": "code",
      "source": [
        "with torch.no_grad():\n",
        "    test_z = torch.randn(8, z_dim).to(device)\n",
        "    generated = G(test_z)\n",
        "\n",
        "    save_image(generated.view(generated.size(0), 1, 28, 28), './track/sample_images_200' + '.png')"
      ],
      "metadata": {
        "id": "gxVOotx_oxeS"
      },
      "execution_count": 40,
      "outputs": []
    },
    {
      "cell_type": "code",
      "source": [
        "import matplotlib.pyplot as plt"
      ],
      "metadata": {
        "id": "fbhmXPVx-vgR"
      },
      "execution_count": 24,
      "outputs": []
    },
    {
      "cell_type": "code",
      "source": [
        "plt.imshow(generated.view(generated.size(0), 1, 28, 28).cpu()[1].permute(1,2,0))"
      ],
      "metadata": {
        "colab": {
          "base_uri": "https://localhost:8080/",
          "height": 448
        },
        "id": "WpZVI2Snuihl",
        "outputId": "f221c3ef-f1a7-4eba-e4d1-11eca845f8a8"
      },
      "execution_count": 28,
      "outputs": [
        {
          "output_type": "execute_result",
          "data": {
            "text/plain": [
              "<matplotlib.image.AxesImage at 0x7f5d605d4520>"
            ]
          },
          "metadata": {},
          "execution_count": 28
        },
        {
          "output_type": "display_data",
          "data": {
            "text/plain": [
              "<Figure size 640x480 with 1 Axes>"
            ],
            "image/png": "[encoded data removed]"
          },
          "metadata": {}
        }
      ]
    },
    {
      "cell_type": "markdown",
      "source": [
        "# Plotting Losses from the Training"
      ],
      "metadata": {
        "id": "OEPmb8tlSyU2"
      }
    },
    {
      "cell_type": "code",
      "source": [
        "plt.plot(range(1, len(losses)+1), [_[0] for _ in losses], label='discriminator_loss')\n",
        "plt.plot(range(1, len(losses)+1), [_[1] for _ in losses], label='generator_loss')\n",
        "plt.legend()\n",
        "plt.show()"
      ],
      "metadata": {
        "colab": {
          "base_uri": "https://localhost:8080/",
          "height": 430
        },
        "id": "ylatKU9TSI1s",
        "outputId": "9fabb92e-19c6-43a5-8a73-df76ffe3ee27"
      },
      "execution_count": 43,
      "outputs": [
        {
          "output_type": "display_data",
          "data": {
            "text/plain": [
              "<Figure size 640x480 with 1 Axes>"
            ],
            "image/png": "[encoded data removed]"
          },
          "metadata": {}
        }
      ]
    },
    {
      "cell_type": "code",
      "source": [],
      "metadata": {
        "id": "oICcnSSvSPUD"
      },
      "execution_count": null,
      "outputs": []
    }
  ]
}