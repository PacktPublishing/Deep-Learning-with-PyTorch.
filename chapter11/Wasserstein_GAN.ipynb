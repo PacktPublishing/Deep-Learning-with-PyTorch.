{
 "cells": [
  {
   "cell_type": "markdown",
   "metadata": {
    "id": "r2dfGLNrTmHv"
   },
   "source": [
    "# Training a Simple GAN with PyTorch\n",
    "- GAN for Generating simple MNIST Images\n",
    "- Good to have a GPU for faster training"
   ]
  },
  {
   "cell_type": "code",
   "execution_count": 1,
   "metadata": {
    "id": "k0IOFO4DUw06"
   },
   "outputs": [],
   "source": [
    "!rm -r track\n",
    "!mkdir track"
   ]
  },
  {
   "cell_type": "code",
   "execution_count": 2,
   "metadata": {
    "id": "4YxqP7LbiUrv"
   },
   "outputs": [],
   "source": [
    "# Torch Imports\n",
    "import torch\n",
    "import torch.nn as nn\n",
    "import torch.optim as optim\n",
    "import torch.nn.functional as F\n",
    "\n",
    "# Torchvision Imports\n",
    "from torchvision import datasets, transforms\n",
    "from torchvision.utils import save_image\n",
    "\n",
    "# Device configuration; Good to have a GPU for GAN Training\n",
    "device = torch.device('cuda' if torch.cuda.is_available() else 'cpu')"
   ]
  },
  {
   "cell_type": "code",
   "execution_count": 3,
   "metadata": {
    "colab": {
     "base_uri": "https://localhost:8080/"
    },
    "id": "K5f7nyCDieqA",
    "outputId": "3a929414-8d0a-4d40-81be-8d4850709d01"
   },
   "outputs": [
    {
     "data": {
      "text/plain": [
       "device(type='cuda')"
      ]
     },
     "execution_count": 3,
     "metadata": {},
     "output_type": "execute_result"
    }
   ],
   "source": [
    "device"
   ]
  },
  {
   "cell_type": "markdown",
   "metadata": {
    "id": "SbdcNZOHTUgM"
   },
   "source": [
    "# Generator Network\n",
    "- 4 Fully Connected Layers\n",
    "- Output Dimension will be same as 28*28"
   ]
  },
  {
   "cell_type": "code",
   "execution_count": 4,
   "metadata": {
    "id": "lYTu38GFik4Z"
   },
   "outputs": [],
   "source": [
    "class Generator(nn.Module):\n",
    "    def __init__(self, g_input_dim, g_output_dim):\n",
    "        super(Generator, self).__init__()\n",
    "        self.fc1 = nn.Linear(g_input_dim, 256)\n",
    "        self.fc2 = nn.Linear(256, 512)\n",
    "        self.fc3 = nn.Linear(512, 1024)\n",
    "        self.fc4 = nn.Linear(1024, g_output_dim)\n",
    "\n",
    "\n",
    "    # forward method\n",
    "    def forward(self, x):\n",
    "        x = F.leaky_relu(self.fc1(x), negative_slope=0.2)\n",
    "        x = F.leaky_relu(self.fc2(x), negative_slope=0.2)\n",
    "        x = F.leaky_relu(self.fc3(x), negative_slope=0.2)\n",
    "        return torch.tanh(self.fc4(x))\n"
   ]
  },
  {
   "cell_type": "markdown",
   "metadata": {
    "id": "G-JIxeU0TcyI"
   },
   "source": [
    "# Discriminator Network\n",
    "- 4 Fully Connected Layers\n",
    "- Output is a Single Neuron, 1=Real Image, 0=Fake Image"
   ]
  },
  {
   "cell_type": "code",
   "execution_count": 5,
   "metadata": {
    "id": "Is-ZNi1tio-_"
   },
   "outputs": [],
   "source": [
    "class Discriminator(nn.Module):\n",
    "    def __init__(self, d_input_dim):\n",
    "        super(Discriminator, self).__init__()\n",
    "        self.fc1 = nn.Linear(d_input_dim, 1024)\n",
    "        self.fc2 = nn.Linear(1024, 512)\n",
    "        self.fc3 = nn.Linear(512, 256)\n",
    "        self.fc4 = nn.Linear(256, 1)\n",
    "\n",
    "    # forward method\n",
    "    def forward(self, x):\n",
    "        x = F.leaky_relu(self.fc1(x), negative_slope=0.2)\n",
    "        x = F.leaky_relu(self.fc2(x), negative_slope=0.2)\n",
    "        x = F.leaky_relu(self.fc3(x), negative_slope=0.2)\n",
    "        return self.fc4(x)\n",
    "        # return torch.sigmoid(self.fc4(x))\n"
   ]
  },
  {
   "cell_type": "markdown",
   "metadata": {
    "id": "nvYTEfyMTJKV"
   },
   "source": [
    "# Instantiating Models\n",
    "- Using a random noise of 100 dimensions\n",
    "- Using BCE Loss for Training\n",
    "- Using Adam Optimizer for Training"
   ]
  },
  {
   "cell_type": "code",
   "execution_count": 6,
   "metadata": {
    "id": "6oesO7aEnZu3"
   },
   "outputs": [],
   "source": [
    "# Models\n",
    "z_dim = 100 # Dimension of the Input Noise to the Generator\n",
    "mnist_dim = 28 * 28 # As we have 28x28 pixel images in MNIST\n",
    "G = Generator(g_input_dim = z_dim, g_output_dim = mnist_dim).to(device)\n",
    "D = Discriminator(mnist_dim).to(device)\n",
    "\n",
    "# loss\n",
    "# criterion = nn.BCELoss()\n",
    "\n",
    "# optimizer\n",
    "lr = 0.00005\n",
    "G_optimizer = optim.RMSprop(G.parameters(), lr = lr)\n",
    "D_optimizer = optim.RMSprop(D.parameters(), lr = lr)"
   ]
  },
  {
   "cell_type": "markdown",
   "metadata": {
    "id": "MQD5--pkTCwi"
   },
   "source": [
    "# Loading & Normalizing MNIST Dataset"
   ]
  },
  {
   "cell_type": "code",
   "execution_count": 7,
   "metadata": {
    "id": "Mi4nn196i4bi"
   },
   "outputs": [],
   "source": [
    "# Batch Size for Training\n",
    "batch_size = 32\n",
    "\n",
    "# Transforming Images to Tensor and then Normalizing the values to be between 0 and 1, with mean 0.5 and std 0.5\n",
    "transform = transforms.Compose([\n",
    "    transforms.ToTensor(),\n",
    "    transforms.Normalize(mean=(0.5,), std=(0.5,))])\n",
    "\n",
    "# Loading the Training Dataset and applying Transformation\n",
    "train_dataset = datasets.MNIST(root='./mnist/', train=True, transform=transform, download=True)\n",
    "test_dataset = datasets.MNIST(root='./mnist/', train=False, transform=transform, download=False)\n",
    "\n",
    "# Data Loader which will be used as input to the models.\n",
    "train_loader = torch.utils.data.DataLoader(dataset=train_dataset, batch_size=batch_size, shuffle=True)\n",
    "test_loader = torch.utils.data.DataLoader(dataset=test_dataset, batch_size=batch_size, shuffle=False)\n"
   ]
  },
  {
   "cell_type": "markdown",
   "metadata": {
    "id": "uG5014WuTANh"
   },
   "source": [
    "# Method for Training Discriminator"
   ]
  },
  {
   "cell_type": "code",
   "execution_count": 8,
   "metadata": {
    "id": "RZkoCFbQi8Et"
   },
   "outputs": [],
   "source": [
    "def train_discriminator(mnist_data_batch):\n",
    "    #===================Discriminator-Trainer===================#\n",
    "    D.zero_grad()\n",
    "\n",
    "    # train discriminator on real\n",
    "    x_real, y_real = mnist_data_batch.view(-1, mnist_dim), torch.ones(batch_size, 1)\n",
    "    x_real, y_real = x_real.to(device), y_real.to(device)\n",
    "\n",
    "    # Loss for Real MNIST Data\n",
    "    D_output = D(x_real).reshape(-1)\n",
    "    D_real_loss = D_output.mean()\n",
    "\n",
    "    # Generate Data from Generator Network for Training\n",
    "    z = torch.randn(batch_size, z_dim).to(device) # Random Noise as Input to G\n",
    "    x_fake, y_fake = G(z), torch.zeros(batch_size, 1).to(device)\n",
    "\n",
    "    # Loss for Fake Data from Generator\n",
    "    D_output = D(x_fake).reshape(-1)\n",
    "    D_fake_loss = D_output.mean()\n",
    "\n",
    "    # Updating only D's weights, so training on D on total loss\n",
    "    D_loss = -D_real_loss + D_fake_loss\n",
    "    D_loss.backward()\n",
    "    D_optimizer.step()\n",
    "\n",
    "    return  D_loss.data.item()\n"
   ]
  },
  {
   "cell_type": "markdown",
   "metadata": {
    "id": "svYCG8BRS8Go"
   },
   "source": [
    "# Method for Training Generator"
   ]
  },
  {
   "cell_type": "code",
   "execution_count": 9,
   "metadata": {
    "id": "5_ZOsm6zjAj5"
   },
   "outputs": [],
   "source": [
    "def train_generator():\n",
    "    #=======================Generator-Trainer=======================#\n",
    "    G.zero_grad()\n",
    "\n",
    "    # Generate Random Noise to use as Input to the Generator\n",
    "    z = torch.randn(batch_size, z_dim).to(device)\n",
    "    # The final label in this case in 1(True), i.e the Discriminator Model\n",
    "    # Thinks these are real images therefore the losses for Generator\n",
    "    # Network should update the weights of G in such a way that it produces more\n",
    "    # Real looking images.\n",
    "    y = torch.ones(batch_size, 1).to(device)\n",
    "\n",
    "    # Generate Images\n",
    "    G_output = G(z)\n",
    "    # Get output from Discriminator for the Generated Images\n",
    "    D_output = D(G_output).reshape(-1)\n",
    "    # Compute Loss\n",
    "    G_loss = -D_output.mean()\n",
    "\n",
    "    # Updating only G's weights\n",
    "    G_loss.backward()\n",
    "    G_optimizer.step()\n",
    "\n",
    "    return G_loss.data.item()"
   ]
  },
  {
   "cell_type": "markdown",
   "metadata": {
    "id": "M0zmaw4MS6bP"
   },
   "source": [
    "# Main Training Loop"
   ]
  },
  {
   "cell_type": "code",
   "execution_count": 11,
   "metadata": {
    "colab": {
     "base_uri": "https://localhost:8080/"
    },
    "id": "BNEl9XfflU21",
    "outputId": "c2d9a3d3-fdd1-4e3c-866d-1ae00407ab0e"
   },
   "outputs": [
    {
     "name": "stdout",
     "output_type": "stream",
     "text": [
      "[0/200]: loss_d: -0.42203810811042786, loss_g: -1.0899877548217773\n",
      "[1/200]: loss_d: -0.3802225887775421, loss_g: -1.174957036972046\n",
      "[2/200]: loss_d: -0.3882812559604645, loss_g: -1.1123164892196655\n",
      "[3/200]: loss_d: -0.3479524850845337, loss_g: -0.9927830696105957\n",
      "[4/200]: loss_d: -0.3654922544956207, loss_g: -1.0938918590545654\n",
      "[5/200]: loss_d: -0.3397221863269806, loss_g: -0.9909398555755615\n",
      "[6/200]: loss_d: -0.3494056761264801, loss_g: -1.097383975982666\n",
      "[7/200]: loss_d: -0.3277183175086975, loss_g: -0.9904671907424927\n",
      "[8/200]: loss_d: -0.3367430567741394, loss_g: -0.9880886673927307\n",
      "[9/200]: loss_d: -0.31739485263824463, loss_g: -1.0783188343048096\n",
      "[10/200]: loss_d: -0.31903740763664246, loss_g: -0.9771227240562439\n",
      "[11/200]: loss_d: -0.33111464977264404, loss_g: -1.0676960945129395\n",
      "[12/200]: loss_d: -0.32714739441871643, loss_g: -1.0699108839035034\n",
      "[13/200]: loss_d: -0.3294054865837097, loss_g: -1.069718360900879\n",
      "[14/200]: loss_d: -0.320415735244751, loss_g: -1.0238807201385498\n",
      "[15/200]: loss_d: -0.321056067943573, loss_g: -1.0876070261001587\n",
      "[16/200]: loss_d: -0.3153224289417267, loss_g: -1.0967609882354736\n",
      "[17/200]: loss_d: -0.3150748014450073, loss_g: -1.048874020576477\n",
      "[18/200]: loss_d: -0.31422552466392517, loss_g: -1.0415146350860596\n",
      "[19/200]: loss_d: -0.31182000041007996, loss_g: -1.0417309999465942\n",
      "[20/200]: loss_d: -0.31275472044944763, loss_g: -1.0152090787887573\n",
      "[21/200]: loss_d: -0.2965129613876343, loss_g: -1.0808231830596924\n",
      "[22/200]: loss_d: -0.2895539104938507, loss_g: -1.0299547910690308\n",
      "[23/200]: loss_d: -0.29118743538856506, loss_g: -0.9727743268013\n",
      "[24/200]: loss_d: -0.29042771458625793, loss_g: -0.990781843662262\n",
      "[25/200]: loss_d: -0.29151707887649536, loss_g: -1.1671929359436035\n",
      "[26/200]: loss_d: -0.2937113642692566, loss_g: -1.095849871635437\n",
      "[27/200]: loss_d: -0.291727215051651, loss_g: -1.1424169540405273\n",
      "[28/200]: loss_d: -0.29539063572883606, loss_g: -1.1271346807479858\n",
      "[29/200]: loss_d: -0.3029225170612335, loss_g: -1.2254687547683716\n",
      "[30/200]: loss_d: -0.3007112741470337, loss_g: -1.4495563507080078\n",
      "[31/200]: loss_d: -0.2974427342414856, loss_g: -1.184179425239563\n",
      "[32/200]: loss_d: -0.281755268573761, loss_g: -1.2188962697982788\n",
      "[33/200]: loss_d: -0.27862656116485596, loss_g: -1.0624891519546509\n",
      "[34/200]: loss_d: -0.2694110870361328, loss_g: -1.18491530418396\n",
      "[35/200]: loss_d: -0.27631089091300964, loss_g: -1.0550285577774048\n",
      "[36/200]: loss_d: -0.2751443088054657, loss_g: -1.0662386417388916\n",
      "[37/200]: loss_d: -0.2746039032936096, loss_g: -1.0509371757507324\n",
      "[38/200]: loss_d: -0.2782769501209259, loss_g: -1.2186964750289917\n",
      "[39/200]: loss_d: -0.2767876982688904, loss_g: -1.1421669721603394\n",
      "[40/200]: loss_d: -0.26543986797332764, loss_g: -1.0972052812576294\n",
      "[41/200]: loss_d: -0.2743037939071655, loss_g: -1.2038053274154663\n",
      "[42/200]: loss_d: -0.27849242091178894, loss_g: -1.144608736038208\n",
      "[43/200]: loss_d: -0.2687484920024872, loss_g: -1.2229875326156616\n",
      "[44/200]: loss_d: -0.26423779129981995, loss_g: -1.1365103721618652\n",
      "[45/200]: loss_d: -0.2734512686729431, loss_g: -1.1310949325561523\n",
      "[46/200]: loss_d: -0.2606101632118225, loss_g: -1.2414575815200806\n",
      "[47/200]: loss_d: -0.2709134817123413, loss_g: -1.2578425407409668\n",
      "[48/200]: loss_d: -0.26588064432144165, loss_g: -1.1628459692001343\n",
      "[49/200]: loss_d: -0.2619551718235016, loss_g: -1.1567885875701904\n",
      "[50/200]: loss_d: -0.263051837682724, loss_g: -1.048290491104126\n",
      "[51/200]: loss_d: -0.25250452756881714, loss_g: -1.1185839176177979\n",
      "[52/200]: loss_d: -0.2684624493122101, loss_g: -1.1727842092514038\n",
      "[53/200]: loss_d: -0.25479018688201904, loss_g: -1.289819359779358\n",
      "[54/200]: loss_d: -0.2572384476661682, loss_g: -1.2137995958328247\n",
      "[55/200]: loss_d: -0.2578164041042328, loss_g: -1.158955693244934\n",
      "[56/200]: loss_d: -0.2536953389644623, loss_g: -1.145235300064087\n",
      "[57/200]: loss_d: -0.2543547749519348, loss_g: -1.1185542345046997\n",
      "[58/200]: loss_d: -0.24210870265960693, loss_g: -1.211997628211975\n",
      "[59/200]: loss_d: -0.24415701627731323, loss_g: -1.2337291240692139\n",
      "[60/200]: loss_d: -0.2418535202741623, loss_g: -1.1615256071090698\n",
      "[61/200]: loss_d: -0.24081911146640778, loss_g: -1.1343499422073364\n",
      "[62/200]: loss_d: -0.24233387410640717, loss_g: -1.145828127861023\n",
      "[63/200]: loss_d: -0.24515071511268616, loss_g: -1.2023277282714844\n",
      "[64/200]: loss_d: -0.23414453864097595, loss_g: -1.1886072158813477\n",
      "[65/200]: loss_d: -0.23325993120670319, loss_g: -1.1493067741394043\n",
      "[66/200]: loss_d: -0.2350737452507019, loss_g: -1.2366968393325806\n",
      "[67/200]: loss_d: -0.23076540231704712, loss_g: -1.0714069604873657\n",
      "[68/200]: loss_d: -0.22841525077819824, loss_g: -1.0970542430877686\n",
      "[69/200]: loss_d: -0.2319987416267395, loss_g: -1.1473743915557861\n",
      "[70/200]: loss_d: -0.22398556768894196, loss_g: -1.2485990524291992\n",
      "[71/200]: loss_d: -0.22346678376197815, loss_g: -1.1167601346969604\n",
      "[72/200]: loss_d: -0.2203466296195984, loss_g: -1.1147314310073853\n",
      "[73/200]: loss_d: -0.22021900117397308, loss_g: -1.1784805059432983\n",
      "[74/200]: loss_d: -0.2197542041540146, loss_g: -1.2036628723144531\n",
      "[75/200]: loss_d: -0.21902760863304138, loss_g: -1.1433285474777222\n",
      "[76/200]: loss_d: -0.21669204533100128, loss_g: -1.2300856113433838\n",
      "[77/200]: loss_d: -0.21295520663261414, loss_g: -1.3295005559921265\n",
      "[78/200]: loss_d: -0.20983827114105225, loss_g: -1.297871708869934\n",
      "[79/200]: loss_d: -0.21529221534729004, loss_g: -1.1857490539550781\n",
      "[80/200]: loss_d: -0.2080560326576233, loss_g: -1.3473140001296997\n",
      "[81/200]: loss_d: -0.20857864618301392, loss_g: -1.184790015220642\n",
      "[82/200]: loss_d: -0.20303939282894135, loss_g: -1.1673563718795776\n",
      "[83/200]: loss_d: -0.2084387093782425, loss_g: -1.2389881610870361\n",
      "[84/200]: loss_d: -0.2049570530653, loss_g: -1.1829508543014526\n",
      "[85/200]: loss_d: -0.2020050585269928, loss_g: -1.1963824033737183\n",
      "[86/200]: loss_d: -0.2042670100927353, loss_g: -1.1374863386154175\n",
      "[87/200]: loss_d: -0.20286360383033752, loss_g: -1.2491298913955688\n",
      "[88/200]: loss_d: -0.1984347105026245, loss_g: -1.1034749746322632\n",
      "[89/200]: loss_d: -0.20382089912891388, loss_g: -1.2535983324050903\n",
      "[90/200]: loss_d: -0.1964639574289322, loss_g: -1.2643333673477173\n",
      "[91/200]: loss_d: -0.1934228539466858, loss_g: -1.2298495769500732\n",
      "[92/200]: loss_d: -0.19106152653694153, loss_g: -1.2154779434204102\n",
      "[93/200]: loss_d: -0.1886454075574875, loss_g: -1.130464792251587\n",
      "[94/200]: loss_d: -0.18733470141887665, loss_g: -1.2948753833770752\n",
      "[95/200]: loss_d: -0.19063502550125122, loss_g: -1.2356078624725342\n",
      "[96/200]: loss_d: -0.18454042077064514, loss_g: -1.189852237701416\n",
      "[97/200]: loss_d: -0.18555113673210144, loss_g: -1.2016546726226807\n",
      "[98/200]: loss_d: -0.18050572276115417, loss_g: -1.1619518995285034\n",
      "[99/200]: loss_d: -0.17966914176940918, loss_g: -1.2317078113555908\n",
      "[100/200]: loss_d: -0.180189847946167, loss_g: -1.2009176015853882\n",
      "[101/200]: loss_d: -0.1846040040254593, loss_g: -1.193980097770691\n",
      "[102/200]: loss_d: -0.17927470803260803, loss_g: -1.0855964422225952\n",
      "[103/200]: loss_d: -0.18582256138324738, loss_g: -1.2196176052093506\n",
      "[104/200]: loss_d: -0.1741323471069336, loss_g: -1.1709861755371094\n",
      "[105/200]: loss_d: -0.17857763171195984, loss_g: -1.1355624198913574\n",
      "[106/200]: loss_d: -0.17513389885425568, loss_g: -1.1291208267211914\n",
      "[107/200]: loss_d: -0.17847652733325958, loss_g: -1.1427046060562134\n",
      "[108/200]: loss_d: -0.17372874915599823, loss_g: -1.2087550163269043\n",
      "[109/200]: loss_d: -0.16902120411396027, loss_g: -1.2003520727157593\n",
      "[110/200]: loss_d: -0.17280152440071106, loss_g: -1.1369590759277344\n",
      "[111/200]: loss_d: -0.1723828911781311, loss_g: -1.1113970279693604\n",
      "[112/200]: loss_d: -0.17402884364128113, loss_g: -1.1811977624893188\n",
      "[113/200]: loss_d: -0.16786785423755646, loss_g: -1.1632587909698486\n",
      "[114/200]: loss_d: -0.16364601254463196, loss_g: -1.2000508308410645\n",
      "[115/200]: loss_d: -0.16153347492218018, loss_g: -1.1465131044387817\n",
      "[116/200]: loss_d: -0.16594155132770538, loss_g: -1.1994184255599976\n",
      "[117/200]: loss_d: -0.16178549826145172, loss_g: -1.1586196422576904\n",
      "[118/200]: loss_d: -0.1647980958223343, loss_g: -1.1353278160095215\n",
      "[119/200]: loss_d: -0.1610279232263565, loss_g: -1.2603484392166138\n",
      "[120/200]: loss_d: -0.1639932543039322, loss_g: -1.2022560834884644\n",
      "[121/200]: loss_d: -0.1617431789636612, loss_g: -1.1313565969467163\n",
      "[122/200]: loss_d: -0.16172672808170319, loss_g: -1.265684962272644\n",
      "[123/200]: loss_d: -0.15956880152225494, loss_g: -1.2616446018218994\n",
      "[124/200]: loss_d: -0.15480263531208038, loss_g: -1.1401512622833252\n",
      "[125/200]: loss_d: -0.1565985381603241, loss_g: -1.2196133136749268\n",
      "[126/200]: loss_d: -0.15546230971813202, loss_g: -1.138385534286499\n",
      "[127/200]: loss_d: -0.15433137118816376, loss_g: -1.133744239807129\n",
      "[128/200]: loss_d: -0.15462112426757812, loss_g: -1.1450949907302856\n",
      "[129/200]: loss_d: -0.15479250252246857, loss_g: -1.1977771520614624\n",
      "[130/200]: loss_d: -0.15126214921474457, loss_g: -1.2534198760986328\n",
      "[131/200]: loss_d: -0.14935436844825745, loss_g: -1.1136729717254639\n",
      "[132/200]: loss_d: -0.1495431363582611, loss_g: -1.1282603740692139\n",
      "[133/200]: loss_d: -0.14780761301517487, loss_g: -1.185460090637207\n",
      "[134/200]: loss_d: -0.14360260963439941, loss_g: -1.1064825057983398\n",
      "[135/200]: loss_d: -0.1468934863805771, loss_g: -1.2447278499603271\n",
      "[136/200]: loss_d: -0.14536698162555695, loss_g: -1.0749598741531372\n",
      "[137/200]: loss_d: -0.14231526851654053, loss_g: -1.1249204874038696\n",
      "[138/200]: loss_d: -0.14575916528701782, loss_g: -1.0913492441177368\n",
      "[139/200]: loss_d: -0.1420053094625473, loss_g: -1.285581111907959\n",
      "[140/200]: loss_d: -0.14006473124027252, loss_g: -1.1828382015228271\n",
      "[141/200]: loss_d: -0.13757507503032684, loss_g: -1.1947505474090576\n",
      "[142/200]: loss_d: -0.1349903792142868, loss_g: -1.078037142753601\n",
      "[143/200]: loss_d: -0.13870806992053986, loss_g: -1.0589064359664917\n",
      "[144/200]: loss_d: -0.13703428208827972, loss_g: -1.0553168058395386\n",
      "[145/200]: loss_d: -0.13653358817100525, loss_g: -1.1867821216583252\n",
      "[146/200]: loss_d: -0.1344338357448578, loss_g: -1.1163616180419922\n",
      "[147/200]: loss_d: -0.1325366199016571, loss_g: -1.044023871421814\n",
      "[148/200]: loss_d: -0.12756088376045227, loss_g: -1.1590811014175415\n",
      "[149/200]: loss_d: -0.12753906846046448, loss_g: -0.9966200590133667\n",
      "[150/200]: loss_d: -0.12229419499635696, loss_g: -1.0879634618759155\n",
      "[151/200]: loss_d: -0.12267164140939713, loss_g: -1.0029494762420654\n",
      "[152/200]: loss_d: -0.1212911605834961, loss_g: -1.0202113389968872\n",
      "[153/200]: loss_d: -0.12437410652637482, loss_g: -1.0363487005233765\n",
      "[154/200]: loss_d: -0.12033559381961823, loss_g: -1.007324457168579\n",
      "[155/200]: loss_d: -0.11828111857175827, loss_g: -0.9568711519241333\n",
      "[156/200]: loss_d: -0.11689922958612442, loss_g: -1.0282025337219238\n",
      "[157/200]: loss_d: -0.11447485536336899, loss_g: -0.9406603574752808\n",
      "[158/200]: loss_d: -0.11478906124830246, loss_g: -0.891839325428009\n",
      "[159/200]: loss_d: -0.11041295528411865, loss_g: -0.9706825017929077\n",
      "[160/200]: loss_d: -0.1092565730214119, loss_g: -0.8620518445968628\n",
      "[161/200]: loss_d: -0.10565678030252457, loss_g: -0.8984176516532898\n",
      "[162/200]: loss_d: -0.10381276160478592, loss_g: -0.8152328133583069\n",
      "[163/200]: loss_d: -0.10366793721914291, loss_g: -0.8676297664642334\n",
      "[164/200]: loss_d: -0.10229404270648956, loss_g: -0.8273912668228149\n",
      "[165/200]: loss_d: -0.10162284970283508, loss_g: -0.8073791265487671\n",
      "[166/200]: loss_d: -0.10051461309194565, loss_g: -0.7905228137969971\n",
      "[167/200]: loss_d: -0.09542475640773773, loss_g: -0.8535277843475342\n",
      "[168/200]: loss_d: -0.0955493301153183, loss_g: -0.8680391311645508\n",
      "[169/200]: loss_d: -0.09154253453016281, loss_g: -0.7449524998664856\n",
      "[170/200]: loss_d: -0.09091130644083023, loss_g: -0.8520299792289734\n",
      "[171/200]: loss_d: -0.0892135500907898, loss_g: -0.8411678075790405\n",
      "[172/200]: loss_d: -0.08508837968111038, loss_g: -0.8764912486076355\n",
      "[173/200]: loss_d: -0.08403126895427704, loss_g: -0.9742245078086853\n",
      "[174/200]: loss_d: -0.08094018697738647, loss_g: -0.917218804359436\n",
      "[175/200]: loss_d: -0.07908578962087631, loss_g: -0.8271255493164062\n",
      "[176/200]: loss_d: -0.07745381444692612, loss_g: -0.7838048338890076\n",
      "[177/200]: loss_d: -0.07647013664245605, loss_g: -0.8191474676132202\n",
      "[178/200]: loss_d: -0.0737878680229187, loss_g: -0.7576418519020081\n",
      "[179/200]: loss_d: -0.07266302406787872, loss_g: -0.8713339567184448\n",
      "[180/200]: loss_d: -0.06998506188392639, loss_g: -0.8564190864562988\n",
      "[181/200]: loss_d: -0.06759339570999146, loss_g: -0.8954612612724304\n",
      "[182/200]: loss_d: -0.07410921156406403, loss_g: -0.9369412660598755\n",
      "[183/200]: loss_d: -0.07503842562437057, loss_g: -1.0562025308609009\n",
      "[184/200]: loss_d: -0.07292736321687698, loss_g: -0.8719084858894348\n",
      "[185/200]: loss_d: -0.07081755995750427, loss_g: -0.8920602202415466\n",
      "[186/200]: loss_d: -0.07137991487979889, loss_g: -0.8452862501144409\n",
      "[187/200]: loss_d: -0.07050447911024094, loss_g: -0.9130755662918091\n",
      "[188/200]: loss_d: -0.06921686977148056, loss_g: -0.9268960952758789\n",
      "[189/200]: loss_d: -0.06587444990873337, loss_g: -0.9831709265708923\n",
      "[190/200]: loss_d: -0.06528335064649582, loss_g: -0.9466082453727722\n",
      "[191/200]: loss_d: -0.06280789524316788, loss_g: -0.9640055298805237\n",
      "[192/200]: loss_d: -0.059845466166734695, loss_g: -0.8755797147750854\n",
      "[193/200]: loss_d: -0.05725548788905144, loss_g: -0.8030382394790649\n",
      "[194/200]: loss_d: -0.05895000323653221, loss_g: -0.841549277305603\n",
      "[195/200]: loss_d: -0.057324185967445374, loss_g: -0.9027705788612366\n",
      "[196/200]: loss_d: -0.05766267329454422, loss_g: -0.9260256886482239\n",
      "[197/200]: loss_d: -0.05571509152650833, loss_g: -0.8436309099197388\n",
      "[198/200]: loss_d: -0.0541885569691658, loss_g: -0.7947578430175781\n",
      "[199/200]: loss_d: -0.048824016004800797, loss_g: -0.8007060289382935\n"
     ]
    }
   ],
   "source": [
    "# Total number of epochs for Training\n",
    "n_epoch = 200\n",
    "\n",
    "losses = []\n",
    "\n",
    "for epoch in range(n_epoch):\n",
    "    D_losses, G_losses = [], []\n",
    "    # For Every Batch in the MNIST dataset\n",
    "    # We train the Discriminator First, then the Generator\n",
    "    for batch_idx, (mnist_input_data, _) in enumerate(train_loader):\n",
    "        D_losses.append(train_discriminator(mnist_input_data))\n",
    "\n",
    "        # Weight Clamping\n",
    "        for p in D.parameters():\n",
    "          p.data.clamp_(-0.01, 0.01)\n",
    "\n",
    "        if batch_idx % 2 == 0:\n",
    "          G_losses.append(train_generator())\n",
    "\n",
    "    if epoch % 10 == 0:\n",
    "        test_z = torch.randn(8, z_dim).to(device)\n",
    "        generated = G(test_z)\n",
    "        save_image(generated.view(generated.size(0), 1, 28, 28), f'./track/sample_images_{epoch}' + '.png')\n",
    "\n",
    "    # Logging the Loss values from Discriminator and Generator\n",
    "    loss_d = torch.mean(torch.FloatTensor(D_losses))\n",
    "    loss_g = torch.mean(torch.FloatTensor(G_losses))\n",
    "    losses.append((loss_d, loss_g))\n",
    "    print(f'[{epoch}/{n_epoch}]: loss_d: {loss_d}, loss_g: {loss_g}')"
   ]
  },
  {
   "cell_type": "markdown",
   "metadata": {
    "id": "-7judlTOS247"
   },
   "source": [
    "# Generating Images from our Trained Generator Network"
   ]
  },
  {
   "cell_type": "code",
   "execution_count": 20,
   "metadata": {
    "id": "gxVOotx_oxeS"
   },
   "outputs": [],
   "source": [
    "with torch.no_grad():\n",
    "    test_z = torch.randn(8, z_dim).to(device)\n",
    "    generated = G(test_z)\n",
    "\n",
    "    save_image(generated.view(generated.size(0), 1, 28, 28), './track/sample_images_200' + '.png')"
   ]
  },
  {
   "cell_type": "code",
   "execution_count": 21,
   "metadata": {
    "id": "fbhmXPVx-vgR"
   },
   "outputs": [],
   "source": [
    "import matplotlib.pyplot as plt"
   ]
  },
  {
   "cell_type": "code",
   "execution_count": 22,
   "metadata": {
    "colab": {
     "base_uri": "https://localhost:8080/",
     "height": 448
    },
    "id": "WpZVI2Snuihl",
    "outputId": "1d5bcd00-6f4d-4b76-b9e7-7f7977a9b48e"
   },
   "outputs": [
    {
     "data": {
      "text/plain": [
       "<matplotlib.image.AxesImage at 0x7b08c3b7ead0>"
      ]
     },
     "execution_count": 22,
     "metadata": {},
     "output_type": "execute_result"
    },
    {
     "data": {
      "image/png": "[encoded data removed]",
      "text/plain": [
       "<Figure size 640x480 with 1 Axes>"
      ]
     },
     "metadata": {},
     "output_type": "display_data"
    }
   ],
   "source": [
    "plt.imshow(generated.view(generated.size(0), 1, 28, 28).cpu()[2].permute(1,2,0))"
   ]
  },
  {
   "cell_type": "markdown",
   "metadata": {
    "id": "OEPmb8tlSyU2"
   },
   "source": [
    "# Plotting Losses from the Training"
   ]
  },
  {
   "cell_type": "code",
   "execution_count": 23,
   "metadata": {
    "colab": {
     "base_uri": "https://localhost:8080/",
     "height": 430
    },
    "id": "ylatKU9TSI1s",
    "outputId": "d39ffcd5-5390-41c9-b204-d1e13da7a843"
   },
   "outputs": [
    {
     "data": {
      "image/png": "[encoded data removed]",
      "text/plain": [
       "<Figure size 640x480 with 1 Axes>"
      ]
     },
     "metadata": {},
     "output_type": "display_data"
    }
   ],
   "source": [
    "plt.plot(range(1, len(losses)+1), [_[0] for _ in losses], label='discriminator_loss')\n",
    "plt.plot(range(1, len(losses)+1), [_[1] for _ in losses], label='generator_loss')\n",
    "plt.legend()\n",
    "plt.show()"
   ]
  },
  {
   "cell_type": "code",
   "execution_count": null,
   "metadata": {
    "id": "oICcnSSvSPUD"
   },
   "outputs": [],
   "source": []
  }
 ],
 "metadata": {
  "accelerator": "GPU",
  "colab": {
   "gpuType": "V100",
   "machine_shape": "hm",
   "provenance": []
  },
  "kernelspec": {
   "display_name": "Python 3 (ipykernel)",
   "language": "python",
   "name": "python3"
  },
  "language_info": {
   "codemirror_mode": {
    "name": "ipython",
    "version": 3
   },
   "file_extension": ".py",
   "mimetype": "text/x-python",
   "name": "python",
   "nbconvert_exporter": "python",
   "pygments_lexer": "ipython3",
   "version": "3.10.4"
  }
 },
 "nbformat": 4,
 "nbformat_minor": 1
}
