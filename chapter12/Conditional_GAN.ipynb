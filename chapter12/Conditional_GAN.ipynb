{
  "nbformat": 4,
  "nbformat_minor": 0,
  "metadata": {
    "colab": {
      "provenance": [],
      "gpuType": "T4"
    },
    "kernelspec": {
      "name": "python3",
      "display_name": "Python 3"
    },
    "language_info": {
      "name": "python"
    },
    "accelerator": "GPU"
  },
  "cells": [
    {
      "cell_type": "markdown",
      "source": [
        "# Training a Simple GAN with PyTorch\n",
        "- GAN for Generating simple MNIST Images\n",
        "- Good to have a GPU for faster training"
      ],
      "metadata": {
        "id": "r2dfGLNrTmHv"
      }
    },
    {
      "cell_type": "code",
      "source": [
        "!rm -r track\n",
        "!mkdir track"
      ],
      "metadata": {
        "id": "vT8_bZeM5ae3"
      },
      "execution_count": 1,
      "outputs": []
    },
    {
      "cell_type": "code",
      "execution_count": 2,
      "metadata": {
        "id": "4YxqP7LbiUrv"
      },
      "outputs": [],
      "source": [
        "# Torch Imports\n",
        "import torch\n",
        "import torch.nn as nn\n",
        "import torch.optim as optim\n",
        "import torch.nn.functional as F\n",
        "\n",
        "# Torchvision Imports\n",
        "from torchvision import datasets, transforms\n",
        "from torchvision.utils import save_image\n",
        "\n",
        "# Device configuration; Good to have a GPU for GAN Training\n",
        "device = torch.device('cuda' if torch.cuda.is_available() else 'cpu')"
      ]
    },
    {
      "cell_type": "code",
      "source": [
        "device"
      ],
      "metadata": {
        "colab": {
          "base_uri": "https://localhost:8080/"
        },
        "id": "K5f7nyCDieqA",
        "outputId": "4d6cef5c-98af-4644-c551-0728667d6ca0"
      },
      "execution_count": 3,
      "outputs": [
        {
          "output_type": "execute_result",
          "data": {
            "text/plain": [
              "device(type='cuda')"
            ]
          },
          "metadata": {},
          "execution_count": 3
        }
      ]
    },
    {
      "cell_type": "markdown",
      "source": [
        "# Generator Network\n",
        "- 4 Fully Connected Layers\n",
        "- Output Dimension will be same as 28*28"
      ],
      "metadata": {
        "id": "SbdcNZOHTUgM"
      }
    },
    {
      "cell_type": "code",
      "source": [
        "class Generator(nn.Module):\n",
        "    def __init__(self, g_input_dim, g_output_dim, num_classes):\n",
        "        super(Generator, self).__init__()\n",
        "        self.fc1 = nn.Linear(g_input_dim + num_classes, 256)\n",
        "        self.fc2 = nn.Linear(256, 512)\n",
        "        self.fc3 = nn.Linear(512, 1024)\n",
        "        self.fc4 = nn.Linear(1024, g_output_dim)\n",
        "\n",
        "\n",
        "    # forward method\n",
        "    def forward(self, x, y):\n",
        "        x = torch.cat([x, y.squeeze()], 1)\n",
        "        x = F.leaky_relu(self.fc1(x), negative_slope=0.2)\n",
        "        x = F.leaky_relu(self.fc2(x), negative_slope=0.2)\n",
        "        x = F.leaky_relu(self.fc3(x), negative_slope=0.2)\n",
        "        return torch.tanh(self.fc4(x))\n"
      ],
      "metadata": {
        "id": "lYTu38GFik4Z"
      },
      "execution_count": 4,
      "outputs": []
    },
    {
      "cell_type": "markdown",
      "source": [
        "# Discriminator Network\n",
        "- 4 Fully Connected Layers\n",
        "- Output is a Single Neuron, 1=Real Image, 0=Fake Image"
      ],
      "metadata": {
        "id": "G-JIxeU0TcyI"
      }
    },
    {
      "cell_type": "code",
      "source": [
        "class Discriminator(nn.Module):\n",
        "    def __init__(self, d_input_dim, num_classes):\n",
        "        super(Discriminator, self).__init__()\n",
        "        self.fc1 = nn.Linear(d_input_dim + num_classes, 1024)\n",
        "        self.fc2 = nn.Linear(1024, 512)\n",
        "        self.fc3 = nn.Linear(512, 256)\n",
        "        self.fc4 = nn.Linear(256, 1)\n",
        "\n",
        "    # forward method\n",
        "    def forward(self, x, y):\n",
        "        x = torch.cat([x, y.squeeze()], 1)\n",
        "        x = F.leaky_relu(self.fc1(x), negative_slope=0.2)\n",
        "        x = F.dropout(x, p=0.3)\n",
        "        x = F.leaky_relu(self.fc2(x), negative_slope=0.2)\n",
        "        x = F.dropout(x, p=0.3)\n",
        "        x = F.leaky_relu(self.fc3(x), negative_slope=0.2)\n",
        "        x = F.dropout(x, p=0.3)\n",
        "        return torch.sigmoid(self.fc4(x))\n"
      ],
      "metadata": {
        "id": "Is-ZNi1tio-_"
      },
      "execution_count": 5,
      "outputs": []
    },
    {
      "cell_type": "markdown",
      "source": [
        "# Instantiating Models\n",
        "- Using a random noise of 100 dimensions\n",
        "- Using BCE Loss for Training\n",
        "- Using Adam Optimizer for Training"
      ],
      "metadata": {
        "id": "nvYTEfyMTJKV"
      }
    },
    {
      "cell_type": "code",
      "source": [
        "# Models\n",
        "z_dim = 100 # Dimension of the Input Noise to the Generator\n",
        "mnist_dim = 28 * 28 # As we have 28x28 pixel images in MNIST\n",
        "num_classes = 10\n",
        "G = Generator(g_input_dim = z_dim, g_output_dim = mnist_dim, num_classes=num_classes).to(device)\n",
        "D = Discriminator(mnist_dim,  num_classes=num_classes).to(device)\n",
        "\n",
        "# loss\n",
        "criterion = nn.BCELoss()\n",
        "\n",
        "# optimizer\n",
        "lr = 0.0002\n",
        "G_optimizer = optim.Adam(G.parameters(), lr = lr)\n",
        "D_optimizer = optim.Adam(D.parameters(), lr = lr)"
      ],
      "metadata": {
        "id": "RWhtpwPvi1Gw"
      },
      "execution_count": 6,
      "outputs": []
    },
    {
      "cell_type": "markdown",
      "source": [
        "# Loading & Normalizing MNIST Dataset"
      ],
      "metadata": {
        "id": "MQD5--pkTCwi"
      }
    },
    {
      "cell_type": "code",
      "source": [
        "# Batch Size for Training\n",
        "batch_size = 100\n",
        "\n",
        "# Transforming Images to Tensor and then Normalizing the values to be between 0 and 1, with mean 0.5 and std 0.5\n",
        "transform = transforms.Compose([\n",
        "    transforms.ToTensor(),\n",
        "    transforms.Normalize(mean=(0.5,), std=(0.5,))])\n",
        "\n",
        "# Loading the Training Dataset and applying Transformation\n",
        "train_dataset = datasets.MNIST(root='./mnist/', train=True, transform=transform, download=True)\n",
        "test_dataset = datasets.MNIST(root='./mnist/', train=False, transform=transform, download=False)\n",
        "\n",
        "# Data Loader which will be used as input to the models.\n",
        "train_loader = torch.utils.data.DataLoader(dataset=train_dataset, batch_size=batch_size, shuffle=True)\n",
        "test_loader = torch.utils.data.DataLoader(dataset=test_dataset, batch_size=batch_size, shuffle=False)\n"
      ],
      "metadata": {
        "id": "Mi4nn196i4bi"
      },
      "execution_count": 7,
      "outputs": []
    },
    {
      "cell_type": "markdown",
      "source": [
        "# Method for Training Discriminator"
      ],
      "metadata": {
        "id": "uG5014WuTANh"
      }
    },
    {
      "cell_type": "code",
      "source": [
        "def train_discriminator(mnist_data_batch, mnist_label_batch):\n",
        "    #===================Discriminator-Trainer===================#\n",
        "    D.zero_grad()\n",
        "\n",
        "    # train discriminator on real\n",
        "    x_real, y_real = mnist_data_batch.view(-1, mnist_dim), torch.ones(batch_size, 1)\n",
        "    x_real, y_real = x_real.to(device), y_real.to(device)\n",
        "    x_label = torch.nn.functional.one_hot(mnist_label_batch, num_classes=10).to(device)\n",
        "\n",
        "    # Loss for Real MNIST Data\n",
        "    D_output = D(x_real, x_label)\n",
        "    D_real_loss = criterion(D_output, y_real)\n",
        "\n",
        "    # Generate Data from Generator Network for Training\n",
        "    z = torch.randn(batch_size, z_dim).to(device) # Random Noise as Input to G\n",
        "    label = torch.randint(0, 9, (batch_size, 1)).to(device)\n",
        "    label = torch.nn.functional.one_hot(label, num_classes=10)\n",
        "    x_fake, y_fake = G(z, label), torch.zeros(batch_size, 1).to(device)\n",
        "\n",
        "    # Loss for Fake Data from Generator\n",
        "    D_output = D(x_fake, label)\n",
        "    D_fake_loss = criterion(D_output, y_fake)\n",
        "\n",
        "    # Updating only D's weights, so training on D on total loss\n",
        "    D_loss = D_real_loss + D_fake_loss\n",
        "    D_loss.backward()\n",
        "    D_optimizer.step()\n",
        "\n",
        "    return  D_loss.data.item()\n"
      ],
      "metadata": {
        "id": "RZkoCFbQi8Et"
      },
      "execution_count": 8,
      "outputs": []
    },
    {
      "cell_type": "markdown",
      "source": [
        "# Method for Training Generator"
      ],
      "metadata": {
        "id": "svYCG8BRS8Go"
      }
    },
    {
      "cell_type": "code",
      "source": [
        "def train_generator():\n",
        "    #=======================Generator-Trainer=======================#\n",
        "    G.zero_grad()\n",
        "\n",
        "    # Generate Random Noise to use as Input to the Generator\n",
        "    z = torch.randn(batch_size, z_dim).to(device)\n",
        "    label = torch.randint(0, 9, (batch_size, 1)).to(device)\n",
        "    label = torch.nn.functional.one_hot(label, num_classes=10)\n",
        "    # The final label in this case in 1(True), i.e the Discriminator Model\n",
        "    # Thinks these are real images therefore the losses for Generator\n",
        "    # Network should update the weights of G in such a way that it produces more\n",
        "    # Real looking images.\n",
        "    y = torch.ones(batch_size, 1).to(device)\n",
        "\n",
        "    # Generate Images\n",
        "    G_output = G(z, label)\n",
        "    # Get output from Discriminator for the Generated Images\n",
        "    D_output = D(G_output, label)\n",
        "    # Compute Loss\n",
        "    G_loss = criterion(D_output, y)\n",
        "\n",
        "    # Updating only G's weights\n",
        "    G_loss.backward()\n",
        "    G_optimizer.step()\n",
        "\n",
        "    return G_loss.data.item()"
      ],
      "metadata": {
        "id": "5_ZOsm6zjAj5"
      },
      "execution_count": 9,
      "outputs": []
    },
    {
      "cell_type": "markdown",
      "source": [
        "# Main Training Loop"
      ],
      "metadata": {
        "id": "M0zmaw4MS6bP"
      }
    },
    {
      "cell_type": "code",
      "source": [
        "# Total number of epochs for Training\n",
        "n_epoch = 200\n",
        "n_critic = 3\n",
        "\n",
        "losses = []\n",
        "\n",
        "for epoch in range(n_epoch):\n",
        "    D_losses, G_losses = [], []\n",
        "    # For Every Batch in the MNIST dataset\n",
        "    # We train the Discriminator First, then the Generator\n",
        "    for batch_idx, (mnist_input_data, label) in enumerate(train_loader):\n",
        "        for _ in range(n_critic):\n",
        "          D_losses.append(train_discriminator(mnist_input_data, label))\n",
        "        G_losses.append(train_generator())\n",
        "\n",
        "    if epoch % 10 == 0:\n",
        "        test_z = torch.randn(10, z_dim).to(device)\n",
        "        label_z = torch.Tensor([0,1,2,3,4,5,6,7,8,9]).long().to(device)\n",
        "        label_z = torch.nn.functional.one_hot(label_z, num_classes=10)\n",
        "        generated = G(test_z, label_z)\n",
        "        save_image(generated.view(generated.size(0), 1, 28, 28), f'./track/sample_images_{epoch}' + '.png')\n",
        "\n",
        "    # Logging the Loss values from Discriminator and Generator\n",
        "    loss_d = torch.mean(torch.FloatTensor(D_losses))\n",
        "    loss_g = torch.mean(torch.FloatTensor(G_losses))\n",
        "    losses.append((loss_d, loss_g))\n",
        "    print(f'[{epoch}/{n_epoch}]: loss_d: {loss_d}, loss_g: {loss_g}')"
      ],
      "metadata": {
        "colab": {
          "base_uri": "https://localhost:8080/"
        },
        "id": "BNEl9XfflU21",
        "outputId": "2a18477c-1d72-4124-a18a-7abeb4572477"
      },
      "execution_count": 10,
      "outputs": [
        {
          "output_type": "stream",
          "name": "stdout",
          "text": [
            "[0/200]: loss_d: 0.10644786059856415, loss_g: 8.22718620300293\n",
            "[1/200]: loss_d: 0.020778769627213478, loss_g: 9.448699951171875\n",
            "[2/200]: loss_d: 0.036165814846754074, loss_g: 10.291396141052246\n",
            "[3/200]: loss_d: 0.05740787833929062, loss_g: 8.778903007507324\n",
            "[4/200]: loss_d: 0.07632704079151154, loss_g: 8.002867698669434\n",
            "[5/200]: loss_d: 0.10165167599916458, loss_g: 7.431113243103027\n",
            "[6/200]: loss_d: 0.12869080901145935, loss_g: 6.981318950653076\n",
            "[7/200]: loss_d: 0.1375935971736908, loss_g: 6.612727165222168\n",
            "[8/200]: loss_d: 0.19762851297855377, loss_g: 5.689815521240234\n",
            "[9/200]: loss_d: 0.24561025202274323, loss_g: 5.056235313415527\n",
            "[10/200]: loss_d: 0.29802098870277405, loss_g: 4.418086051940918\n",
            "[11/200]: loss_d: 0.35493767261505127, loss_g: 3.956519365310669\n",
            "[12/200]: loss_d: 0.4085768759250641, loss_g: 3.5331473350524902\n",
            "[13/200]: loss_d: 0.47234395146369934, loss_g: 3.157463550567627\n",
            "[14/200]: loss_d: 0.5450807213783264, loss_g: 2.810398578643799\n",
            "[15/200]: loss_d: 0.5932224988937378, loss_g: 2.613884449005127\n",
            "[16/200]: loss_d: 0.6411577463150024, loss_g: 2.414893865585327\n",
            "[17/200]: loss_d: 0.6844707131385803, loss_g: 2.2432589530944824\n",
            "[18/200]: loss_d: 0.7179568409919739, loss_g: 2.1397945880889893\n",
            "[19/200]: loss_d: 0.7595191597938538, loss_g: 1.9858351945877075\n",
            "[20/200]: loss_d: 0.7798432111740112, loss_g: 1.9473776817321777\n",
            "[21/200]: loss_d: 0.8037587404251099, loss_g: 1.8560502529144287\n",
            "[22/200]: loss_d: 0.8284605145454407, loss_g: 1.7879425287246704\n",
            "[23/200]: loss_d: 0.8394809365272522, loss_g: 1.7484127283096313\n",
            "[24/200]: loss_d: 0.8661667108535767, loss_g: 1.6769287586212158\n",
            "[25/200]: loss_d: 0.8758812546730042, loss_g: 1.6545180082321167\n",
            "[26/200]: loss_d: 0.8878630995750427, loss_g: 1.6246652603149414\n",
            "[27/200]: loss_d: 0.9009474515914917, loss_g: 1.5881613492965698\n",
            "[28/200]: loss_d: 0.9267415404319763, loss_g: 1.5172802209854126\n",
            "[29/200]: loss_d: 0.9330999851226807, loss_g: 1.5012893676757812\n",
            "[30/200]: loss_d: 0.9454710483551025, loss_g: 1.4719904661178589\n",
            "[31/200]: loss_d: 0.9469460844993591, loss_g: 1.4832251071929932\n",
            "[32/200]: loss_d: 0.9503065943717957, loss_g: 1.4640228748321533\n",
            "[33/200]: loss_d: 0.9535360932350159, loss_g: 1.466041922569275\n",
            "[34/200]: loss_d: 0.9680392742156982, loss_g: 1.425152063369751\n",
            "[35/200]: loss_d: 0.9780282378196716, loss_g: 1.4058563709259033\n",
            "[36/200]: loss_d: 0.97989821434021, loss_g: 1.396934151649475\n",
            "[37/200]: loss_d: 0.9929549694061279, loss_g: 1.375182867050171\n",
            "[38/200]: loss_d: 0.9980608224868774, loss_g: 1.357664942741394\n",
            "[39/200]: loss_d: 1.003375768661499, loss_g: 1.3438788652420044\n",
            "[40/200]: loss_d: 1.0045031309127808, loss_g: 1.3547849655151367\n",
            "[41/200]: loss_d: 1.0225317478179932, loss_g: 1.2976255416870117\n",
            "[42/200]: loss_d: 1.011902928352356, loss_g: 1.3345673084259033\n",
            "[43/200]: loss_d: 1.014864206314087, loss_g: 1.3358160257339478\n",
            "[44/200]: loss_d: 1.0210410356521606, loss_g: 1.3119503259658813\n",
            "[45/200]: loss_d: 1.0338306427001953, loss_g: 1.276951551437378\n",
            "[46/200]: loss_d: 1.027215600013733, loss_g: 1.307008981704712\n",
            "[47/200]: loss_d: 1.027419924736023, loss_g: 1.300249457359314\n",
            "[48/200]: loss_d: 1.03350830078125, loss_g: 1.2764943838119507\n",
            "[49/200]: loss_d: 1.0434062480926514, loss_g: 1.2713102102279663\n",
            "[50/200]: loss_d: 1.0425236225128174, loss_g: 1.2658803462982178\n",
            "[51/200]: loss_d: 1.0337470769882202, loss_g: 1.2911485433578491\n",
            "[52/200]: loss_d: 1.0358855724334717, loss_g: 1.2864655256271362\n",
            "[53/200]: loss_d: 1.0483258962631226, loss_g: 1.2574219703674316\n",
            "[54/200]: loss_d: 1.0453606843948364, loss_g: 1.2665221691131592\n",
            "[55/200]: loss_d: 1.061077356338501, loss_g: 1.2275958061218262\n",
            "[56/200]: loss_d: 1.051802396774292, loss_g: 1.2528489828109741\n",
            "[57/200]: loss_d: 1.0539416074752808, loss_g: 1.248396635055542\n",
            "[58/200]: loss_d: 1.050890326499939, loss_g: 1.2562931776046753\n",
            "[59/200]: loss_d: 1.057904601097107, loss_g: 1.2303454875946045\n",
            "[60/200]: loss_d: 1.0611841678619385, loss_g: 1.2288156747817993\n",
            "[61/200]: loss_d: 1.062780499458313, loss_g: 1.2278369665145874\n",
            "[62/200]: loss_d: 1.0652117729187012, loss_g: 1.2140287160873413\n",
            "[63/200]: loss_d: 1.0649200677871704, loss_g: 1.2196367979049683\n",
            "[64/200]: loss_d: 1.0647931098937988, loss_g: 1.2230851650238037\n",
            "[65/200]: loss_d: 1.0650529861450195, loss_g: 1.2267050743103027\n",
            "[66/200]: loss_d: 1.066271185874939, loss_g: 1.2182731628417969\n",
            "[67/200]: loss_d: 1.0710996389389038, loss_g: 1.2090154886245728\n",
            "[68/200]: loss_d: 1.0685330629348755, loss_g: 1.2168468236923218\n",
            "[69/200]: loss_d: 1.0655943155288696, loss_g: 1.2260276079177856\n",
            "[70/200]: loss_d: 1.0752644538879395, loss_g: 1.191250205039978\n",
            "[71/200]: loss_d: 1.0805943012237549, loss_g: 1.18320631980896\n",
            "[72/200]: loss_d: 1.0719714164733887, loss_g: 1.2091996669769287\n",
            "[73/200]: loss_d: 1.0660916566848755, loss_g: 1.226912021636963\n",
            "[74/200]: loss_d: 1.0773179531097412, loss_g: 1.192642092704773\n",
            "[75/200]: loss_d: 1.0816912651062012, loss_g: 1.187723994255066\n",
            "[76/200]: loss_d: 1.0888869762420654, loss_g: 1.1664414405822754\n",
            "[77/200]: loss_d: 1.0776625871658325, loss_g: 1.2122334241867065\n",
            "[78/200]: loss_d: 1.0725961923599243, loss_g: 1.2109605073928833\n",
            "[79/200]: loss_d: 1.0840426683425903, loss_g: 1.18372642993927\n",
            "[80/200]: loss_d: 1.0816644430160522, loss_g: 1.1898897886276245\n",
            "[81/200]: loss_d: 1.0802007913589478, loss_g: 1.1963449716567993\n",
            "[82/200]: loss_d: 1.0773208141326904, loss_g: 1.1997044086456299\n",
            "[83/200]: loss_d: 1.0840257406234741, loss_g: 1.1763547658920288\n",
            "[84/200]: loss_d: 1.0792721509933472, loss_g: 1.1930869817733765\n",
            "[85/200]: loss_d: 1.0866460800170898, loss_g: 1.16996169090271\n",
            "[86/200]: loss_d: 1.0916410684585571, loss_g: 1.1694859266281128\n",
            "[87/200]: loss_d: 1.0827382802963257, loss_g: 1.1771459579467773\n",
            "[88/200]: loss_d: 1.0810717344284058, loss_g: 1.1900677680969238\n",
            "[89/200]: loss_d: 1.0875005722045898, loss_g: 1.1801055669784546\n",
            "[90/200]: loss_d: 1.0868239402770996, loss_g: 1.1729291677474976\n",
            "[91/200]: loss_d: 1.0813649892807007, loss_g: 1.1891164779663086\n",
            "[92/200]: loss_d: 1.0753114223480225, loss_g: 1.2046868801116943\n",
            "[93/200]: loss_d: 1.0857653617858887, loss_g: 1.176581621170044\n",
            "[94/200]: loss_d: 1.0809543132781982, loss_g: 1.1937353610992432\n",
            "[95/200]: loss_d: 1.097078800201416, loss_g: 1.1502728462219238\n",
            "[96/200]: loss_d: 1.0786302089691162, loss_g: 1.2053554058074951\n",
            "[97/200]: loss_d: 1.0913784503936768, loss_g: 1.168626308441162\n",
            "[98/200]: loss_d: 1.0753552913665771, loss_g: 1.204530119895935\n",
            "[99/200]: loss_d: 1.0848866701126099, loss_g: 1.1821784973144531\n",
            "[100/200]: loss_d: 1.09109365940094, loss_g: 1.1628159284591675\n",
            "[101/200]: loss_d: 1.0912307500839233, loss_g: 1.1674017906188965\n",
            "[102/200]: loss_d: 1.0787564516067505, loss_g: 1.2046250104904175\n",
            "[103/200]: loss_d: 1.0863159894943237, loss_g: 1.1767162084579468\n",
            "[104/200]: loss_d: 1.0844924449920654, loss_g: 1.1869434118270874\n",
            "[105/200]: loss_d: 1.0883630514144897, loss_g: 1.1771891117095947\n",
            "[106/200]: loss_d: 1.0869842767715454, loss_g: 1.1811083555221558\n",
            "[107/200]: loss_d: 1.0890249013900757, loss_g: 1.1755380630493164\n",
            "[108/200]: loss_d: 1.088600516319275, loss_g: 1.1715832948684692\n",
            "[109/200]: loss_d: 1.079373836517334, loss_g: 1.1985572576522827\n",
            "[110/200]: loss_d: 1.0837699174880981, loss_g: 1.1883995532989502\n",
            "[111/200]: loss_d: 1.081546664237976, loss_g: 1.191760540008545\n",
            "[112/200]: loss_d: 1.083662748336792, loss_g: 1.1848063468933105\n",
            "[113/200]: loss_d: 1.0909007787704468, loss_g: 1.170081615447998\n",
            "[114/200]: loss_d: 1.0765677690505981, loss_g: 1.1992233991622925\n",
            "[115/200]: loss_d: 1.0869596004486084, loss_g: 1.1826567649841309\n",
            "[116/200]: loss_d: 1.081217646598816, loss_g: 1.1907680034637451\n",
            "[117/200]: loss_d: 1.0862290859222412, loss_g: 1.182869553565979\n",
            "[118/200]: loss_d: 1.072710394859314, loss_g: 1.2170894145965576\n",
            "[119/200]: loss_d: 1.0736494064331055, loss_g: 1.2186554670333862\n",
            "[120/200]: loss_d: 1.087618112564087, loss_g: 1.1770485639572144\n",
            "[121/200]: loss_d: 1.089389443397522, loss_g: 1.1714978218078613\n",
            "[122/200]: loss_d: 1.0791759490966797, loss_g: 1.2027931213378906\n",
            "[123/200]: loss_d: 1.0775606632232666, loss_g: 1.2096091508865356\n",
            "[124/200]: loss_d: 1.0791149139404297, loss_g: 1.2003000974655151\n",
            "[125/200]: loss_d: 1.0746040344238281, loss_g: 1.2144348621368408\n",
            "[126/200]: loss_d: 1.0767786502838135, loss_g: 1.2033451795578003\n",
            "[127/200]: loss_d: 1.0775060653686523, loss_g: 1.2051233053207397\n",
            "[128/200]: loss_d: 1.0759726762771606, loss_g: 1.1954110860824585\n",
            "[129/200]: loss_d: 1.0768729448318481, loss_g: 1.210829496383667\n",
            "[130/200]: loss_d: 1.0763226747512817, loss_g: 1.2051156759262085\n",
            "[131/200]: loss_d: 1.081082820892334, loss_g: 1.1947174072265625\n",
            "[132/200]: loss_d: 1.0713649988174438, loss_g: 1.2241207361221313\n",
            "[133/200]: loss_d: 1.0753154754638672, loss_g: 1.2098675966262817\n",
            "[134/200]: loss_d: 1.066478967666626, loss_g: 1.2338405847549438\n",
            "[135/200]: loss_d: 1.0688964128494263, loss_g: 1.2177525758743286\n",
            "[136/200]: loss_d: 1.0684499740600586, loss_g: 1.2172770500183105\n",
            "[137/200]: loss_d: 1.0724296569824219, loss_g: 1.2192003726959229\n",
            "[138/200]: loss_d: 1.06185781955719, loss_g: 1.2484052181243896\n",
            "[139/200]: loss_d: 1.0650769472122192, loss_g: 1.236308217048645\n",
            "[140/200]: loss_d: 1.070947289466858, loss_g: 1.221758246421814\n",
            "[141/200]: loss_d: 1.0702377557754517, loss_g: 1.2187703847885132\n",
            "[142/200]: loss_d: 1.0656274557113647, loss_g: 1.2375693321228027\n",
            "[143/200]: loss_d: 1.06340754032135, loss_g: 1.2379564046859741\n",
            "[144/200]: loss_d: 1.060541033744812, loss_g: 1.2532671689987183\n",
            "[145/200]: loss_d: 1.0636982917785645, loss_g: 1.2302125692367554\n",
            "[146/200]: loss_d: 1.064078688621521, loss_g: 1.2390176057815552\n",
            "[147/200]: loss_d: 1.0613126754760742, loss_g: 1.2490068674087524\n",
            "[148/200]: loss_d: 1.0606369972229004, loss_g: 1.2492632865905762\n",
            "[149/200]: loss_d: 1.0589103698730469, loss_g: 1.2477635145187378\n",
            "[150/200]: loss_d: 1.0629887580871582, loss_g: 1.233683466911316\n",
            "[151/200]: loss_d: 1.0641170740127563, loss_g: 1.2388982772827148\n",
            "[152/200]: loss_d: 1.061639428138733, loss_g: 1.234470009803772\n",
            "[153/200]: loss_d: 1.0615154504776, loss_g: 1.2413920164108276\n",
            "[154/200]: loss_d: 1.057737112045288, loss_g: 1.2460600137710571\n",
            "[155/200]: loss_d: 1.0598456859588623, loss_g: 1.2396680116653442\n",
            "[156/200]: loss_d: 1.0539195537567139, loss_g: 1.2661187648773193\n",
            "[157/200]: loss_d: 1.0577222108840942, loss_g: 1.2440059185028076\n",
            "[158/200]: loss_d: 1.0604166984558105, loss_g: 1.2441140413284302\n",
            "[159/200]: loss_d: 1.052748680114746, loss_g: 1.2649250030517578\n",
            "[160/200]: loss_d: 1.0545297861099243, loss_g: 1.2643548250198364\n",
            "[161/200]: loss_d: 1.0539896488189697, loss_g: 1.258792757987976\n",
            "[162/200]: loss_d: 1.0626307725906372, loss_g: 1.2360143661499023\n",
            "[163/200]: loss_d: 1.0505582094192505, loss_g: 1.2742666006088257\n",
            "[164/200]: loss_d: 1.0566703081130981, loss_g: 1.2515215873718262\n",
            "[165/200]: loss_d: 1.0565900802612305, loss_g: 1.2506110668182373\n",
            "[166/200]: loss_d: 1.0475009679794312, loss_g: 1.278200387954712\n",
            "[167/200]: loss_d: 1.0496989488601685, loss_g: 1.275726318359375\n",
            "[168/200]: loss_d: 1.0508275032043457, loss_g: 1.2724804878234863\n",
            "[169/200]: loss_d: 1.0493797063827515, loss_g: 1.267189860343933\n",
            "[170/200]: loss_d: 1.0501537322998047, loss_g: 1.2659059762954712\n",
            "[171/200]: loss_d: 1.048188328742981, loss_g: 1.2712215185165405\n",
            "[172/200]: loss_d: 1.051972508430481, loss_g: 1.2619723081588745\n",
            "[173/200]: loss_d: 1.0490995645523071, loss_g: 1.27713143825531\n",
            "[174/200]: loss_d: 1.0449557304382324, loss_g: 1.2833480834960938\n",
            "[175/200]: loss_d: 1.0497767925262451, loss_g: 1.2710959911346436\n",
            "[176/200]: loss_d: 1.0516560077667236, loss_g: 1.27605402469635\n",
            "[177/200]: loss_d: 1.0470752716064453, loss_g: 1.2805906534194946\n",
            "[178/200]: loss_d: 1.0380325317382812, loss_g: 1.3112953901290894\n",
            "[179/200]: loss_d: 1.0450716018676758, loss_g: 1.2793484926223755\n",
            "[180/200]: loss_d: 1.0424493551254272, loss_g: 1.2934468984603882\n",
            "[181/200]: loss_d: 1.0460461378097534, loss_g: 1.269071102142334\n",
            "[182/200]: loss_d: 1.0495364665985107, loss_g: 1.2686864137649536\n",
            "[183/200]: loss_d: 1.0391695499420166, loss_g: 1.3039743900299072\n",
            "[184/200]: loss_d: 1.0481443405151367, loss_g: 1.2690114974975586\n",
            "[185/200]: loss_d: 1.0440771579742432, loss_g: 1.2766956090927124\n",
            "[186/200]: loss_d: 1.0394868850708008, loss_g: 1.3004838228225708\n",
            "[187/200]: loss_d: 1.043576717376709, loss_g: 1.2916706800460815\n",
            "[188/200]: loss_d: 1.0433828830718994, loss_g: 1.2846965789794922\n",
            "[189/200]: loss_d: 1.0337543487548828, loss_g: 1.3191578388214111\n",
            "[190/200]: loss_d: 1.0412585735321045, loss_g: 1.2900166511535645\n",
            "[191/200]: loss_d: 1.0356502532958984, loss_g: 1.3135936260223389\n",
            "[192/200]: loss_d: 1.0405683517456055, loss_g: 1.2843198776245117\n",
            "[193/200]: loss_d: 1.0342071056365967, loss_g: 1.3212080001831055\n",
            "[194/200]: loss_d: 1.0359978675842285, loss_g: 1.3060237169265747\n",
            "[195/200]: loss_d: 1.0438436269760132, loss_g: 1.2887029647827148\n",
            "[196/200]: loss_d: 1.035378098487854, loss_g: 1.3115779161453247\n",
            "[197/200]: loss_d: 1.0370285511016846, loss_g: 1.3036816120147705\n",
            "[198/200]: loss_d: 1.039557695388794, loss_g: 1.302491307258606\n",
            "[199/200]: loss_d: 1.0330076217651367, loss_g: 1.3067930936813354\n"
          ]
        }
      ]
    },
    {
      "cell_type": "markdown",
      "source": [
        "# Generating Images from our Trained Generator Network"
      ],
      "metadata": {
        "id": "-7judlTOS247"
      }
    },
    {
      "cell_type": "code",
      "source": [
        "num_classes"
      ],
      "metadata": {
        "colab": {
          "base_uri": "https://localhost:8080/"
        },
        "id": "wkeTBmsMa4R9",
        "outputId": "9fa7bbc1-e976-4a6f-844e-ca4b49828f68"
      },
      "execution_count": 11,
      "outputs": [
        {
          "output_type": "execute_result",
          "data": {
            "text/plain": [
              "10"
            ]
          },
          "metadata": {},
          "execution_count": 11
        }
      ]
    },
    {
      "cell_type": "code",
      "source": [
        "with torch.no_grad():\n",
        "    test_z = torch.randn(8, z_dim).to(device)\n",
        "    label_z = torch.Tensor([6, 6, 6, 6, 6, 6, 6, 6]).long().to(device)\n",
        "    label_z = torch.nn.functional.one_hot(label_z, num_classes=10)\n",
        "    generated = G(test_z, label_z)\n",
        "\n",
        "    save_image(generated.view(generated.size(0), 1, 28, 28), './sample_images_200' + '.png')"
      ],
      "metadata": {
        "id": "gxVOotx_oxeS"
      },
      "execution_count": 12,
      "outputs": []
    },
    {
      "cell_type": "code",
      "source": [
        "import matplotlib.pyplot as plt"
      ],
      "metadata": {
        "id": "fbhmXPVx-vgR"
      },
      "execution_count": null,
      "outputs": []
    },
    {
      "cell_type": "code",
      "source": [
        "plt.imshow(generated.view(generated.size(0), 1, 28, 28).cpu()[1].permute(1,2,0))"
      ],
      "metadata": {
        "colab": {
          "base_uri": "https://localhost:8080/",
          "height": 448
        },
        "id": "WpZVI2Snuihl",
        "outputId": "f221c3ef-f1a7-4eba-e4d1-11eca845f8a8"
      },
      "execution_count": null,
      "outputs": [
        {
          "output_type": "execute_result",
          "data": {
            "text/plain": [
              "<matplotlib.image.AxesImage at 0x7f5d605d4520>"
            ]
          },
          "metadata": {},
          "execution_count": 28
        },
        {
          "output_type": "display_data",
          "data": {
            "text/plain": [
              "<Figure size 640x480 with 1 Axes>"
            ],
            "image/png": "[encoded data removed]"
          },
          "metadata": {}
        }
      ]
    },
    {
      "cell_type": "markdown",
      "source": [
        "# Plotting Losses from the Training"
      ],
      "metadata": {
        "id": "OEPmb8tlSyU2"
      }
    },
    {
      "cell_type": "code",
      "source": [
        "import matplotlib.pyplot as plt\n",
        "plt.plot(range(1, len(losses)+1), [_[0] for _ in losses], label='discriminator_loss')\n",
        "plt.plot(range(1, len(losses)+1), [_[1] for _ in losses], label='generator_loss')\n",
        "plt.legend()\n",
        "plt.show()"
      ],
      "metadata": {
        "colab": {
          "base_uri": "https://localhost:8080/",
          "height": 450
        },
        "id": "ylatKU9TSI1s",
        "outputId": "2033e275-37f3-41ec-c4ce-ba0451822370"
      },
      "execution_count": 14,
      "outputs": [
        {
          "output_type": "display_data",
          "data": {
            "text/plain": [
              "<Figure size 640x480 with 1 Axes>"
            ],
            "image/png": "[encoded data removed]"
          },
          "metadata": {}
        }
      ]
    },
    {
      "cell_type": "code",
      "source": [],
      "metadata": {
        "id": "oICcnSSvSPUD"
      },
      "execution_count": null,
      "outputs": []
    }
  ]
}